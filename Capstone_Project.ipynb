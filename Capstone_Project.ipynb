{
  "nbformat": 4,
  "nbformat_minor": 0,
  "metadata": {
    "colab": {
      "name": "Capstone Project.ipynb",
      "provenance": [],
      "collapsed_sections": [],
      "authorship_tag": "ABX9TyOD0tjqdDTO8oOaseP7o8/X",
      "include_colab_link": true
    },
    "kernelspec": {
      "name": "python3",
      "display_name": "Python 3"
    }
  },
  "cells": [
    {
      "cell_type": "markdown",
      "metadata": {
        "id": "view-in-github",
        "colab_type": "text"
      },
      "source": [
        "<a href=\"https://colab.research.google.com/github/pankajrana1111/Image-Classification/blob/pankajrana1111-patch-1/Capstone_Project.ipynb\" target=\"_parent\"><img src=\"https://colab.research.google.com/assets/colab-badge.svg\" alt=\"Open In Colab\"/></a>"
      ]
    },
    {
      "cell_type": "code",
      "metadata": {
        "id": "-rTUk66Sa91N"
      },
      "source": [
        "#getting repository from github\n",
        "!git clone https://github.com/pankajrana1111/Image-Classification.git"
      ],
      "execution_count": null,
      "outputs": []
    },
    {
      "cell_type": "code",
      "metadata": {
        "id": "K-shpXfw2ccS"
      },
      "source": [
        "!pip install patool\n",
        "import patoolib\n",
        "patoolib.extract_archive(\"Image-Classification/fashion1.rar\", outdir=\"Image-Classification\")\n",
        "patoolib.extract_archive(\"Image-Classification/fashion2.rar\", outdir=\"Image-Classification\")\n",
        "patoolib.extract_archive(\"Image-Classification/fashion3.rar\", outdir=\"Image-Classification\")\n",
        "patoolib.extract_archive(\"Image-Classification/fashion4.rar\", outdir=\"Image-Classification\")\n",
        "patoolib.extract_archive(\"Image-Classification/fashion5.rar\", outdir=\"Image-Classification\")\n",
        "patoolib.extract_archive(\"Image-Classification/fashion6.rar\", outdir=\"Image-Classification\")"
      ],
      "execution_count": null,
      "outputs": []
    },
    {
      "cell_type": "code",
      "metadata": {
        "id": "lEP4ULC2K0qy"
      },
      "source": [
        "import os\n",
        "import numpy as np\n",
        "import pandas as pd\n",
        "import matplotlib.pyplot as plt\n",
        "%matplotlib inline"
      ],
      "execution_count": 11,
      "outputs": []
    },
    {
      "cell_type": "code",
      "metadata": {
        "id": "5w5cNiIr7Rl_"
      },
      "source": [
        "data=pd.read_csv(\"Image-Classification/train.csv\")\n",
        "data.head()"
      ],
      "execution_count": null,
      "outputs": []
    },
    {
      "cell_type": "markdown",
      "metadata": {
        "id": "TyBhTrgG7Bi1"
      },
      "source": [
        "Now Here I see that the files coloumn contains the locations of the images and images coloum contains the name of the image files. Further the target coloum contains the category of the image."
      ]
    },
    {
      "cell_type": "markdown",
      "metadata": {
        "id": "XU4hx098-Zru"
      },
      "source": [
        "Expolatory Data Analysis"
      ]
    },
    {
      "cell_type": "code",
      "metadata": {
        "id": "xD5CBJ6G7fbO"
      },
      "source": [
        "data.shape"
      ],
      "execution_count": null,
      "outputs": []
    },
    {
      "cell_type": "code",
      "metadata": {
        "id": "dpY3dALz-XPx"
      },
      "source": [
        "##plotting the no. of categories\n",
        "y_labels=data.target.unique()\n",
        "counts=[data.target.tolist().count(i) for i in y_labels]\n",
        "plt.barh(y_labels,counts)\n",
        "plt.show()"
      ],
      "execution_count": null,
      "outputs": []
    },
    {
      "cell_type": "markdown",
      "metadata": {
        "id": "ABFH-_1QTNmF"
      },
      "source": [
        "In the plot we observed that the no. of images in each category are alomost equal and hence we have a balanced dataset."
      ]
    },
    {
      "cell_type": "markdown",
      "metadata": {
        "id": "uGOXcFJLUYc0"
      },
      "source": [
        "Creating Predictor Matrix out of images"
      ]
    },
    {
      "cell_type": "code",
      "metadata": {
        "id": "6kdaE-NrOjhP"
      },
      "source": [
        "import cv2"
      ],
      "execution_count": 10,
      "outputs": []
    },
    {
      "cell_type": "code",
      "metadata": {
        "id": "OYRnGdJFyueb"
      },
      "source": [
        "##creating the lists of image locations\n",
        "image_loc1=[os.path.join(\"Image-Classification/fashion1\",img) for img in os.listdir(\"Image-Classification/fashion1\")]\n",
        "image_loc2=[os.path.join(\"Image-Classification/fashion2\",img) for img in os.listdir(\"Image-Classification/fashion2\")]\n",
        "image_loc3=[os.path.join(\"Image-Classification/fashion3\",img) for img in os.listdir(\"Image-Classification/fashion3\")]\n",
        "image_loc4=[os.path.join(\"Image-Classification/fashion4\",img) for img in os.listdir(\"Image-Classification/fashion4\")]\n",
        "image_loc5=[os.path.join(\"Image-Classification/fashion5\",img) for img in os.listdir(\"Image-Classification/fashion5\")]\n",
        "image_loc6=[os.path.join(\"Image-Classification/fashion6\",img) for img in os.listdir(\"Image-Classification/fashion6\")]"
      ],
      "execution_count": 26,
      "outputs": []
    },
    {
      "cell_type": "code",
      "metadata": {
        "id": "mtUdzal5-oxS"
      },
      "source": [
        "print(len(image_loc1))\n",
        "print(len(image_loc2))\n",
        "print(len(image_loc3))\n",
        "print(len(image_loc4))\n",
        "print(len(image_loc5))\n",
        "print(len(image_loc6))"
      ],
      "execution_count": null,
      "outputs": []
    },
    {
      "cell_type": "code",
      "metadata": {
        "id": "lblMGXNI2Wls"
      },
      "source": [
        "##combining all the images in one list\n",
        "image_loc_list=image_loc1 + image_loc2 + image_loc3 + image_loc4 + image_loc5 + image_loc6\n",
        "len(image_loc_list)"
      ],
      "execution_count": null,
      "outputs": []
    },
    {
      "cell_type": "code",
      "metadata": {
        "id": "AYY1xRKb33yy"
      },
      "source": [
        "##reading,processing and saving the image data into image_array list\n",
        "j=0\n",
        "image_array=[None]*len(image_loc_list)\n",
        "for i in image_loc_list:\n",
        "    image=cv2.imread(i)\n",
        "    image=cv2.cvtColor(image,cv2.COLOR_BGR2GRAY)\n",
        "    image=cv2.resize(image,(100,100),cv2.INTER_LINEAR)\n",
        "    image=image.reshape(100*100)\n",
        "    image_array[j]=image\n",
        "    j+=1    "
      ],
      "execution_count": 49,
      "outputs": []
    },
    {
      "cell_type": "code",
      "metadata": {
        "id": "HNiQCuCq6feI"
      },
      "source": [
        "##Creating Dataframe from the list of image data\n",
        "Pd_mat=pd.DataFrame(image_array)"
      ],
      "execution_count": 53,
      "outputs": []
    },
    {
      "cell_type": "code",
      "metadata": {
        "id": "bLQPDiPi915a"
      },
      "source": [
        "##removing any duplicates in the Predictor Matrix\n",
        "Pd_mat.drop_duplicates()"
      ],
      "execution_count": null,
      "outputs": []
    },
    {
      "cell_type": "code",
      "metadata": {
        "id": "R2v_76hjAFWH"
      },
      "source": [
        "##displaying sample image\n",
        "image_array=np.asarray(image_array)\n",
        "plt.imshow(image_array[100].reshape(100,100),cmap=\"gray\")"
      ],
      "execution_count": null,
      "outputs": []
    },
    {
      "cell_type": "code",
      "metadata": {
        "id": "lIskTQjuA1k3"
      },
      "source": [
        ""
      ],
      "execution_count": null,
      "outputs": []
    }
  ]
}