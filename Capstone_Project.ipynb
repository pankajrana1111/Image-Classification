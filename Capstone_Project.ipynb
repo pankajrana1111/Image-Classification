{
  "nbformat": 4,
  "nbformat_minor": 0,
  "metadata": {
    "colab": {
      "name": "Capstone Project.ipynb",
      "provenance": [],
      "collapsed_sections": [],
      "authorship_tag": "ABX9TyP3/7T9MWAycEpi7jTgL8I1",
      "include_colab_link": true
    },
    "kernelspec": {
      "name": "python3",
      "display_name": "Python 3"
    }
  },
  "cells": [
    {
      "cell_type": "markdown",
      "metadata": {
        "id": "view-in-github",
        "colab_type": "text"
      },
      "source": [
        "<a href=\"https://colab.research.google.com/github/pankajrana1111/Image-Classification/blob/pankajrana1111-patch-1/Capstone_Project.ipynb\" target=\"_parent\"><img src=\"https://colab.research.google.com/assets/colab-badge.svg\" alt=\"Open In Colab\"/></a>"
      ]
    },
    {
      "cell_type": "markdown",
      "metadata": {
        "id": "5E4PQIs8JL9l"
      },
      "source": [
        "#***Loading dataset from GitHub***"
      ]
    },
    {
      "cell_type": "code",
      "metadata": {
        "id": "-rTUk66Sa91N"
      },
      "source": [
        "#getting repository from github\n",
        "!git clone https://github.com/pankajrana1111/Image-Classification.git"
      ],
      "execution_count": null,
      "outputs": []
    },
    {
      "cell_type": "code",
      "metadata": {
        "id": "K-shpXfw2ccS"
      },
      "source": [
        "#extacting data from the archived files\n",
        "!pip install patool\n",
        "import patoolib\n",
        "patoolib.extract_archive(\"Image-Classification/fashion1.rar\", outdir=\"Image-Classification\")\n",
        "patoolib.extract_archive(\"Image-Classification/fashion2.rar\", outdir=\"Image-Classification\")\n",
        "patoolib.extract_archive(\"Image-Classification/fashion3.rar\", outdir=\"Image-Classification\")\n",
        "patoolib.extract_archive(\"Image-Classification/fashion4.rar\", outdir=\"Image-Classification\")\n",
        "patoolib.extract_archive(\"Image-Classification/fashion5.rar\", outdir=\"Image-Classification\")\n",
        "patoolib.extract_archive(\"Image-Classification/fashion6.rar\", outdir=\"Image-Classification\")"
      ],
      "execution_count": null,
      "outputs": []
    },
    {
      "cell_type": "code",
      "metadata": {
        "id": "lEP4ULC2K0qy"
      },
      "source": [
        "# importing all required libararies. The libaries are imported in the sequence of their usage.\n",
        "import os\n",
        "import numpy as np\n",
        "import pandas as pd\n",
        "import matplotlib.pyplot as plt\n",
        "%matplotlib inline\n",
        "from sklearn import preprocessing\n",
        "import cv2\n",
        "from keras.preprocessing.image import load_img\n",
        "from keras.preprocessing.image import img_to_array\n",
        "from keras.applications import VGG16\n",
        "from keras.applications import imagenet_utils\n",
        "from sklearn.model_selection import train_test_split\n",
        "from sklearn.linear_model import LogisticRegression\n",
        "from sklearn.metrics import confusion_matrix, accuracy_score"
      ],
      "execution_count": 114,
      "outputs": []
    },
    {
      "cell_type": "code",
      "metadata": {
        "id": "OYRnGdJFyueb"
      },
      "source": [
        "##creating the lists of image locations\n",
        "image_loc1=[os.path.join(\"Image-Classification/fashion1\",img) for img in os.listdir(\"Image-Classification/fashion1\")]\n",
        "image_loc2=[os.path.join(\"Image-Classification/fashion2\",img) for img in os.listdir(\"Image-Classification/fashion2\")]\n",
        "image_loc3=[os.path.join(\"Image-Classification/fashion3\",img) for img in os.listdir(\"Image-Classification/fashion3\")]\n",
        "image_loc4=[os.path.join(\"Image-Classification/fashion4\",img) for img in os.listdir(\"Image-Classification/fashion4\")]\n",
        "image_loc5=[os.path.join(\"Image-Classification/fashion5\",img) for img in os.listdir(\"Image-Classification/fashion5\")]\n",
        "image_loc6=[os.path.join(\"Image-Classification/fashion6\",img) for img in os.listdir(\"Image-Classification/fashion6\")]"
      ],
      "execution_count": 76,
      "outputs": []
    },
    {
      "cell_type": "code",
      "metadata": {
        "id": "lblMGXNI2Wls"
      },
      "source": [
        "##combining all the images in one list\n",
        "image_loc_list=image_loc1 + image_loc2 + image_loc3 + image_loc4 + image_loc5 + image_loc6\n",
        "len(image_loc_list)"
      ],
      "execution_count": null,
      "outputs": []
    },
    {
      "cell_type": "code",
      "metadata": {
        "id": "nm8pX96FxWFQ"
      },
      "source": [
        "image_loc_list[0:10]"
      ],
      "execution_count": null,
      "outputs": []
    },
    {
      "cell_type": "code",
      "metadata": {
        "id": "zyx1c4EPnyKA"
      },
      "source": [
        "## the order of the list obtained should match with the image coloum in the dataframe data\r\n",
        "\r\n",
        "sorted_image_list=[]\r\n",
        "for image in data.images:\r\n",
        "    for item in image_loc_list:\r\n",
        "        if image in item:\r\n",
        "            sorted_image_list.append(item)\r\n",
        "            \r\n",
        "### the output contains a list of image locations exactly in the same order as present in the test file. This activity was done\r\n",
        "##  to create exactly the same labels against the obtained combined list obtained from six folders.            "
      ],
      "execution_count": 79,
      "outputs": []
    },
    {
      "cell_type": "code",
      "metadata": {
        "id": "s4gSxLb_4f4T"
      },
      "source": [
        "sorted_image_list[0:10]"
      ],
      "execution_count": null,
      "outputs": []
    },
    {
      "cell_type": "code",
      "metadata": {
        "id": "r5ZnEzqY731H"
      },
      "source": [
        "## replacing the files coloum with sorted_image_list in train dataframe\r\n",
        "\r\n",
        "data[\"files\"]=sorted_image_list"
      ],
      "execution_count": 85,
      "outputs": []
    },
    {
      "cell_type": "markdown",
      "metadata": {
        "id": "XU4hx098-Zru"
      },
      "source": [
        "#***Exploratory Data Analysis***"
      ]
    },
    {
      "cell_type": "code",
      "metadata": {
        "id": "5w5cNiIr7Rl_"
      },
      "source": [
        "data.head()"
      ],
      "execution_count": null,
      "outputs": []
    },
    {
      "cell_type": "markdown",
      "metadata": {
        "id": "TyBhTrgG7Bi1"
      },
      "source": [
        "COMMENT: From the first look of the dataframe we observed that the target variable contains the categories of the images."
      ]
    },
    {
      "cell_type": "code",
      "metadata": {
        "id": "xD5CBJ6G7fbO"
      },
      "source": [
        "#checking size of the data\r\n",
        "data.shape"
      ],
      "execution_count": null,
      "outputs": []
    },
    {
      "cell_type": "code",
      "metadata": {
        "id": "W2RnSD5Pl4Ou"
      },
      "source": [
        "#checking for any missing values in the data\r\n",
        "data.isnull().sum()"
      ],
      "execution_count": null,
      "outputs": []
    },
    {
      "cell_type": "code",
      "metadata": {
        "id": "dpY3dALz-XPx"
      },
      "source": [
        "##plotting the no. of images in each category\n",
        "y_labels=data.target.unique()\n",
        "print (y_labels)\n",
        "counts=[data.target.tolist().count(i) for i in y_labels]\n",
        "print(counts)\n",
        "plt.barh(y_labels,counts,align=\"center\",alpha=0.5)\n",
        "plt.show()"
      ],
      "execution_count": null,
      "outputs": []
    },
    {
      "cell_type": "markdown",
      "metadata": {
        "id": "ABFH-_1QTNmF"
      },
      "source": [
        "COMMENT: In the plot we observed that the no. of images in each category are almost equal and hence we have a balanced dataset."
      ]
    },
    {
      "cell_type": "code",
      "metadata": {
        "id": "PvEqExIfnzbY"
      },
      "source": [
        "# plotting sample images\r\n",
        "def show_imgs(X):\r\n",
        "    plt.figure(figsize=(8, 8))\r\n",
        "    k = 0\r\n",
        "    for i in range(0,4):\r\n",
        "        for j in range(0,4):\r\n",
        "            image = load_img(data.files[k], target_size=(224, 224))\r\n",
        "            plt.subplot2grid((4,4),(i,j))\r\n",
        "            plt.imshow(image)\r\n",
        "            k = k+1\r\n",
        "    plt.show()"
      ],
      "execution_count": 91,
      "outputs": []
    },
    {
      "cell_type": "code",
      "metadata": {
        "id": "BdRXPeAipPBO"
      },
      "source": [
        "show_imgs(data.files)"
      ],
      "execution_count": null,
      "outputs": []
    },
    {
      "cell_type": "markdown",
      "metadata": {
        "id": "JeFW122S9Wrh"
      },
      "source": [
        "#***Creating Lables***"
      ]
    },
    {
      "cell_type": "code",
      "metadata": {
        "id": "jwwMt4_v9mAT"
      },
      "source": [
        "label_encoder = preprocessing.LabelEncoder() \r\n",
        "labels=list(label_encoder.fit_transform(data[\"target\"]))"
      ],
      "execution_count": 102,
      "outputs": []
    },
    {
      "cell_type": "code",
      "metadata": {
        "id": "yvuEbRKICXY3"
      },
      "source": [
        "data[\"labels\"]=labels"
      ],
      "execution_count": 104,
      "outputs": []
    },
    {
      "cell_type": "code",
      "metadata": {
        "id": "952adBaUC2DS"
      },
      "source": [
        "data.head(20)"
      ],
      "execution_count": null,
      "outputs": []
    },
    {
      "cell_type": "markdown",
      "metadata": {
        "id": "NU95hcTnq52_"
      },
      "source": [
        "#***Feature Extraction***"
      ]
    },
    {
      "cell_type": "code",
      "metadata": {
        "id": "d3dVRuForFAA"
      },
      "source": [
        "# load the VGG16 network\r\n",
        "print(\"[INFO] loading network...\")\r\n",
        " \r\n",
        "# chop the top dense layers, include_top=False\r\n",
        "model = VGG16(weights=\"imagenet\", include_top=False)\r\n",
        "model.summary()"
      ],
      "execution_count": null,
      "outputs": []
    },
    {
      "cell_type": "code",
      "metadata": {
        "id": "240htIp8saDO"
      },
      "source": [
        "# Extracting/Creating features of each image in our dataset\r\n",
        "def create_features(dataset, pre_model):\r\n",
        " \r\n",
        "    x_scratch = []\r\n",
        " \r\n",
        "    # loop over the images\r\n",
        "    for imagePath in dataset:\r\n",
        " \r\n",
        "        # load the input image and image is resized to 224x224 pixels\r\n",
        "        image = load_img(imagePath, target_size=(224, 224))\r\n",
        "        image = img_to_array(image)\r\n",
        " \r\n",
        "        # preprocess the image by (1) expanding the dimensions and\r\n",
        "        # (2) subtracting the mean RGB pixel intensity from the\r\n",
        "        # ImageNet dataset\r\n",
        "        image = np.expand_dims(image, axis=0)\r\n",
        "        image = imagenet_utils.preprocess_input(image)\r\n",
        " \r\n",
        "        # add the image to the batch\r\n",
        "        x_scratch.append(image)\r\n",
        " \r\n",
        "    x = np.vstack(x_scratch)\r\n",
        "    features = pre_model.predict(x, batch_size=32)\r\n",
        "    features_flatten = features.reshape((features.shape[0], 7 * 7 * 512))\r\n",
        "    return x, features, features_flatten"
      ],
      "execution_count": 14,
      "outputs": []
    },
    {
      "cell_type": "code",
      "metadata": {
        "id": "B2OPRIdotYrN"
      },
      "source": [
        "image_stack, features, features_flatten = create_features(data.files, model)"
      ],
      "execution_count": 15,
      "outputs": []
    },
    {
      "cell_type": "code",
      "metadata": {
        "id": "HNiQCuCq6feI"
      },
      "source": [
        "##Creating Dataframe out of extracted features and adding target column\n",
        "\n",
        "Pd_mat=pd.DataFrame(features_flatten)\n",
        "Pd_mat[\"target\"]=data[\"labels\"]"
      ],
      "execution_count": 109,
      "outputs": []
    },
    {
      "cell_type": "code",
      "metadata": {
        "id": "CBFKSPKWEvXR",
        "outputId": "aa7a49ad-684c-4dc0-ef60-e1ad9246d871",
        "colab": {
          "base_uri": "https://localhost:8080/",
          "height": 244
        }
      },
      "source": [
        "Pd_mat.head()"
      ],
      "execution_count": 110,
      "outputs": [
        {
          "output_type": "execute_result",
          "data": {
            "text/html": [
              "<div>\n",
              "<style scoped>\n",
              "    .dataframe tbody tr th:only-of-type {\n",
              "        vertical-align: middle;\n",
              "    }\n",
              "\n",
              "    .dataframe tbody tr th {\n",
              "        vertical-align: top;\n",
              "    }\n",
              "\n",
              "    .dataframe thead th {\n",
              "        text-align: right;\n",
              "    }\n",
              "</style>\n",
              "<table border=\"1\" class=\"dataframe\">\n",
              "  <thead>\n",
              "    <tr style=\"text-align: right;\">\n",
              "      <th></th>\n",
              "      <th>0</th>\n",
              "      <th>1</th>\n",
              "      <th>2</th>\n",
              "      <th>3</th>\n",
              "      <th>4</th>\n",
              "      <th>5</th>\n",
              "      <th>6</th>\n",
              "      <th>7</th>\n",
              "      <th>8</th>\n",
              "      <th>9</th>\n",
              "      <th>10</th>\n",
              "      <th>11</th>\n",
              "      <th>12</th>\n",
              "      <th>13</th>\n",
              "      <th>14</th>\n",
              "      <th>15</th>\n",
              "      <th>16</th>\n",
              "      <th>17</th>\n",
              "      <th>18</th>\n",
              "      <th>19</th>\n",
              "      <th>20</th>\n",
              "      <th>21</th>\n",
              "      <th>22</th>\n",
              "      <th>23</th>\n",
              "      <th>24</th>\n",
              "      <th>25</th>\n",
              "      <th>26</th>\n",
              "      <th>27</th>\n",
              "      <th>28</th>\n",
              "      <th>29</th>\n",
              "      <th>30</th>\n",
              "      <th>31</th>\n",
              "      <th>32</th>\n",
              "      <th>33</th>\n",
              "      <th>34</th>\n",
              "      <th>35</th>\n",
              "      <th>36</th>\n",
              "      <th>37</th>\n",
              "      <th>38</th>\n",
              "      <th>39</th>\n",
              "      <th>...</th>\n",
              "      <th>25049</th>\n",
              "      <th>25050</th>\n",
              "      <th>25051</th>\n",
              "      <th>25052</th>\n",
              "      <th>25053</th>\n",
              "      <th>25054</th>\n",
              "      <th>25055</th>\n",
              "      <th>25056</th>\n",
              "      <th>25057</th>\n",
              "      <th>25058</th>\n",
              "      <th>25059</th>\n",
              "      <th>25060</th>\n",
              "      <th>25061</th>\n",
              "      <th>25062</th>\n",
              "      <th>25063</th>\n",
              "      <th>25064</th>\n",
              "      <th>25065</th>\n",
              "      <th>25066</th>\n",
              "      <th>25067</th>\n",
              "      <th>25068</th>\n",
              "      <th>25069</th>\n",
              "      <th>25070</th>\n",
              "      <th>25071</th>\n",
              "      <th>25072</th>\n",
              "      <th>25073</th>\n",
              "      <th>25074</th>\n",
              "      <th>25075</th>\n",
              "      <th>25076</th>\n",
              "      <th>25077</th>\n",
              "      <th>25078</th>\n",
              "      <th>25079</th>\n",
              "      <th>25080</th>\n",
              "      <th>25081</th>\n",
              "      <th>25082</th>\n",
              "      <th>25083</th>\n",
              "      <th>25084</th>\n",
              "      <th>25085</th>\n",
              "      <th>25086</th>\n",
              "      <th>25087</th>\n",
              "      <th>target</th>\n",
              "    </tr>\n",
              "  </thead>\n",
              "  <tbody>\n",
              "    <tr>\n",
              "      <th>0</th>\n",
              "      <td>0.0</td>\n",
              "      <td>0.0</td>\n",
              "      <td>0.0</td>\n",
              "      <td>0.0</td>\n",
              "      <td>0.0</td>\n",
              "      <td>0.0</td>\n",
              "      <td>0.0</td>\n",
              "      <td>0.0</td>\n",
              "      <td>0.0</td>\n",
              "      <td>0.0</td>\n",
              "      <td>0.0</td>\n",
              "      <td>0.0</td>\n",
              "      <td>0.0</td>\n",
              "      <td>0.0</td>\n",
              "      <td>0.0</td>\n",
              "      <td>0.0</td>\n",
              "      <td>0.0</td>\n",
              "      <td>0.0</td>\n",
              "      <td>0.0</td>\n",
              "      <td>0.0</td>\n",
              "      <td>0.0</td>\n",
              "      <td>0.0</td>\n",
              "      <td>0.0</td>\n",
              "      <td>0.0</td>\n",
              "      <td>0.0</td>\n",
              "      <td>0.0</td>\n",
              "      <td>0.0</td>\n",
              "      <td>0.0</td>\n",
              "      <td>2.410316</td>\n",
              "      <td>0.0</td>\n",
              "      <td>0.0</td>\n",
              "      <td>0.0</td>\n",
              "      <td>0.0</td>\n",
              "      <td>0.0</td>\n",
              "      <td>0.0</td>\n",
              "      <td>0.0</td>\n",
              "      <td>0.0</td>\n",
              "      <td>0.0</td>\n",
              "      <td>0.0</td>\n",
              "      <td>0.0</td>\n",
              "      <td>...</td>\n",
              "      <td>0.0</td>\n",
              "      <td>0.0</td>\n",
              "      <td>0.0</td>\n",
              "      <td>0.0</td>\n",
              "      <td>0.0</td>\n",
              "      <td>0.0</td>\n",
              "      <td>0.0</td>\n",
              "      <td>0.0</td>\n",
              "      <td>0.0</td>\n",
              "      <td>0.0</td>\n",
              "      <td>0.0</td>\n",
              "      <td>0.0</td>\n",
              "      <td>0.0</td>\n",
              "      <td>25.676117</td>\n",
              "      <td>0.0</td>\n",
              "      <td>0.0</td>\n",
              "      <td>0.0</td>\n",
              "      <td>0.0</td>\n",
              "      <td>0.0</td>\n",
              "      <td>0.0</td>\n",
              "      <td>0.0</td>\n",
              "      <td>0.0</td>\n",
              "      <td>0.0</td>\n",
              "      <td>0.0</td>\n",
              "      <td>0.0</td>\n",
              "      <td>0.000000</td>\n",
              "      <td>0.0</td>\n",
              "      <td>0.0</td>\n",
              "      <td>0.0</td>\n",
              "      <td>0.000000</td>\n",
              "      <td>0.0</td>\n",
              "      <td>0.0</td>\n",
              "      <td>0.0</td>\n",
              "      <td>0.0</td>\n",
              "      <td>0.0</td>\n",
              "      <td>0.0</td>\n",
              "      <td>0.0</td>\n",
              "      <td>0.0</td>\n",
              "      <td>0.0</td>\n",
              "      <td>3</td>\n",
              "    </tr>\n",
              "    <tr>\n",
              "      <th>1</th>\n",
              "      <td>0.0</td>\n",
              "      <td>0.0</td>\n",
              "      <td>0.0</td>\n",
              "      <td>0.0</td>\n",
              "      <td>0.0</td>\n",
              "      <td>0.0</td>\n",
              "      <td>0.0</td>\n",
              "      <td>0.0</td>\n",
              "      <td>0.0</td>\n",
              "      <td>0.0</td>\n",
              "      <td>0.0</td>\n",
              "      <td>0.0</td>\n",
              "      <td>0.0</td>\n",
              "      <td>0.0</td>\n",
              "      <td>0.0</td>\n",
              "      <td>0.0</td>\n",
              "      <td>0.0</td>\n",
              "      <td>0.0</td>\n",
              "      <td>0.0</td>\n",
              "      <td>0.0</td>\n",
              "      <td>0.0</td>\n",
              "      <td>0.0</td>\n",
              "      <td>0.0</td>\n",
              "      <td>0.0</td>\n",
              "      <td>0.0</td>\n",
              "      <td>0.0</td>\n",
              "      <td>0.0</td>\n",
              "      <td>0.0</td>\n",
              "      <td>5.263042</td>\n",
              "      <td>0.0</td>\n",
              "      <td>0.0</td>\n",
              "      <td>0.0</td>\n",
              "      <td>0.0</td>\n",
              "      <td>0.0</td>\n",
              "      <td>0.0</td>\n",
              "      <td>0.0</td>\n",
              "      <td>0.0</td>\n",
              "      <td>0.0</td>\n",
              "      <td>0.0</td>\n",
              "      <td>0.0</td>\n",
              "      <td>...</td>\n",
              "      <td>0.0</td>\n",
              "      <td>0.0</td>\n",
              "      <td>0.0</td>\n",
              "      <td>0.0</td>\n",
              "      <td>0.0</td>\n",
              "      <td>0.0</td>\n",
              "      <td>0.0</td>\n",
              "      <td>0.0</td>\n",
              "      <td>0.0</td>\n",
              "      <td>0.0</td>\n",
              "      <td>0.0</td>\n",
              "      <td>0.0</td>\n",
              "      <td>0.0</td>\n",
              "      <td>24.700193</td>\n",
              "      <td>0.0</td>\n",
              "      <td>0.0</td>\n",
              "      <td>0.0</td>\n",
              "      <td>0.0</td>\n",
              "      <td>0.0</td>\n",
              "      <td>0.0</td>\n",
              "      <td>0.0</td>\n",
              "      <td>0.0</td>\n",
              "      <td>0.0</td>\n",
              "      <td>0.0</td>\n",
              "      <td>0.0</td>\n",
              "      <td>14.344919</td>\n",
              "      <td>0.0</td>\n",
              "      <td>0.0</td>\n",
              "      <td>0.0</td>\n",
              "      <td>1.241529</td>\n",
              "      <td>0.0</td>\n",
              "      <td>0.0</td>\n",
              "      <td>0.0</td>\n",
              "      <td>0.0</td>\n",
              "      <td>0.0</td>\n",
              "      <td>0.0</td>\n",
              "      <td>0.0</td>\n",
              "      <td>0.0</td>\n",
              "      <td>0.0</td>\n",
              "      <td>1</td>\n",
              "    </tr>\n",
              "    <tr>\n",
              "      <th>2</th>\n",
              "      <td>0.0</td>\n",
              "      <td>0.0</td>\n",
              "      <td>0.0</td>\n",
              "      <td>0.0</td>\n",
              "      <td>0.0</td>\n",
              "      <td>0.0</td>\n",
              "      <td>0.0</td>\n",
              "      <td>0.0</td>\n",
              "      <td>0.0</td>\n",
              "      <td>0.0</td>\n",
              "      <td>0.0</td>\n",
              "      <td>0.0</td>\n",
              "      <td>0.0</td>\n",
              "      <td>0.0</td>\n",
              "      <td>0.0</td>\n",
              "      <td>0.0</td>\n",
              "      <td>0.0</td>\n",
              "      <td>0.0</td>\n",
              "      <td>0.0</td>\n",
              "      <td>0.0</td>\n",
              "      <td>0.0</td>\n",
              "      <td>0.0</td>\n",
              "      <td>0.0</td>\n",
              "      <td>0.0</td>\n",
              "      <td>0.0</td>\n",
              "      <td>0.0</td>\n",
              "      <td>0.0</td>\n",
              "      <td>0.0</td>\n",
              "      <td>5.184556</td>\n",
              "      <td>0.0</td>\n",
              "      <td>0.0</td>\n",
              "      <td>0.0</td>\n",
              "      <td>0.0</td>\n",
              "      <td>0.0</td>\n",
              "      <td>0.0</td>\n",
              "      <td>0.0</td>\n",
              "      <td>0.0</td>\n",
              "      <td>0.0</td>\n",
              "      <td>0.0</td>\n",
              "      <td>0.0</td>\n",
              "      <td>...</td>\n",
              "      <td>0.0</td>\n",
              "      <td>0.0</td>\n",
              "      <td>0.0</td>\n",
              "      <td>0.0</td>\n",
              "      <td>0.0</td>\n",
              "      <td>0.0</td>\n",
              "      <td>0.0</td>\n",
              "      <td>0.0</td>\n",
              "      <td>0.0</td>\n",
              "      <td>0.0</td>\n",
              "      <td>0.0</td>\n",
              "      <td>0.0</td>\n",
              "      <td>0.0</td>\n",
              "      <td>26.023094</td>\n",
              "      <td>0.0</td>\n",
              "      <td>0.0</td>\n",
              "      <td>0.0</td>\n",
              "      <td>0.0</td>\n",
              "      <td>0.0</td>\n",
              "      <td>0.0</td>\n",
              "      <td>0.0</td>\n",
              "      <td>0.0</td>\n",
              "      <td>0.0</td>\n",
              "      <td>0.0</td>\n",
              "      <td>0.0</td>\n",
              "      <td>0.000000</td>\n",
              "      <td>0.0</td>\n",
              "      <td>0.0</td>\n",
              "      <td>0.0</td>\n",
              "      <td>0.000000</td>\n",
              "      <td>0.0</td>\n",
              "      <td>0.0</td>\n",
              "      <td>0.0</td>\n",
              "      <td>0.0</td>\n",
              "      <td>0.0</td>\n",
              "      <td>0.0</td>\n",
              "      <td>0.0</td>\n",
              "      <td>0.0</td>\n",
              "      <td>0.0</td>\n",
              "      <td>1</td>\n",
              "    </tr>\n",
              "    <tr>\n",
              "      <th>3</th>\n",
              "      <td>0.0</td>\n",
              "      <td>0.0</td>\n",
              "      <td>0.0</td>\n",
              "      <td>0.0</td>\n",
              "      <td>0.0</td>\n",
              "      <td>0.0</td>\n",
              "      <td>0.0</td>\n",
              "      <td>0.0</td>\n",
              "      <td>0.0</td>\n",
              "      <td>0.0</td>\n",
              "      <td>0.0</td>\n",
              "      <td>0.0</td>\n",
              "      <td>0.0</td>\n",
              "      <td>0.0</td>\n",
              "      <td>0.0</td>\n",
              "      <td>0.0</td>\n",
              "      <td>0.0</td>\n",
              "      <td>0.0</td>\n",
              "      <td>0.0</td>\n",
              "      <td>0.0</td>\n",
              "      <td>0.0</td>\n",
              "      <td>0.0</td>\n",
              "      <td>0.0</td>\n",
              "      <td>0.0</td>\n",
              "      <td>0.0</td>\n",
              "      <td>0.0</td>\n",
              "      <td>0.0</td>\n",
              "      <td>0.0</td>\n",
              "      <td>4.460422</td>\n",
              "      <td>0.0</td>\n",
              "      <td>0.0</td>\n",
              "      <td>0.0</td>\n",
              "      <td>0.0</td>\n",
              "      <td>0.0</td>\n",
              "      <td>0.0</td>\n",
              "      <td>0.0</td>\n",
              "      <td>0.0</td>\n",
              "      <td>0.0</td>\n",
              "      <td>0.0</td>\n",
              "      <td>0.0</td>\n",
              "      <td>...</td>\n",
              "      <td>0.0</td>\n",
              "      <td>0.0</td>\n",
              "      <td>0.0</td>\n",
              "      <td>0.0</td>\n",
              "      <td>0.0</td>\n",
              "      <td>0.0</td>\n",
              "      <td>0.0</td>\n",
              "      <td>0.0</td>\n",
              "      <td>0.0</td>\n",
              "      <td>0.0</td>\n",
              "      <td>0.0</td>\n",
              "      <td>0.0</td>\n",
              "      <td>0.0</td>\n",
              "      <td>29.178869</td>\n",
              "      <td>0.0</td>\n",
              "      <td>0.0</td>\n",
              "      <td>0.0</td>\n",
              "      <td>0.0</td>\n",
              "      <td>0.0</td>\n",
              "      <td>0.0</td>\n",
              "      <td>0.0</td>\n",
              "      <td>0.0</td>\n",
              "      <td>0.0</td>\n",
              "      <td>0.0</td>\n",
              "      <td>0.0</td>\n",
              "      <td>0.000000</td>\n",
              "      <td>0.0</td>\n",
              "      <td>0.0</td>\n",
              "      <td>0.0</td>\n",
              "      <td>0.000000</td>\n",
              "      <td>0.0</td>\n",
              "      <td>0.0</td>\n",
              "      <td>0.0</td>\n",
              "      <td>0.0</td>\n",
              "      <td>0.0</td>\n",
              "      <td>0.0</td>\n",
              "      <td>0.0</td>\n",
              "      <td>0.0</td>\n",
              "      <td>0.0</td>\n",
              "      <td>2</td>\n",
              "    </tr>\n",
              "    <tr>\n",
              "      <th>4</th>\n",
              "      <td>0.0</td>\n",
              "      <td>0.0</td>\n",
              "      <td>0.0</td>\n",
              "      <td>0.0</td>\n",
              "      <td>0.0</td>\n",
              "      <td>0.0</td>\n",
              "      <td>0.0</td>\n",
              "      <td>0.0</td>\n",
              "      <td>0.0</td>\n",
              "      <td>0.0</td>\n",
              "      <td>0.0</td>\n",
              "      <td>0.0</td>\n",
              "      <td>0.0</td>\n",
              "      <td>0.0</td>\n",
              "      <td>0.0</td>\n",
              "      <td>0.0</td>\n",
              "      <td>0.0</td>\n",
              "      <td>0.0</td>\n",
              "      <td>0.0</td>\n",
              "      <td>0.0</td>\n",
              "      <td>0.0</td>\n",
              "      <td>0.0</td>\n",
              "      <td>0.0</td>\n",
              "      <td>0.0</td>\n",
              "      <td>0.0</td>\n",
              "      <td>0.0</td>\n",
              "      <td>0.0</td>\n",
              "      <td>0.0</td>\n",
              "      <td>3.635608</td>\n",
              "      <td>0.0</td>\n",
              "      <td>0.0</td>\n",
              "      <td>0.0</td>\n",
              "      <td>0.0</td>\n",
              "      <td>0.0</td>\n",
              "      <td>0.0</td>\n",
              "      <td>0.0</td>\n",
              "      <td>0.0</td>\n",
              "      <td>0.0</td>\n",
              "      <td>0.0</td>\n",
              "      <td>0.0</td>\n",
              "      <td>...</td>\n",
              "      <td>0.0</td>\n",
              "      <td>0.0</td>\n",
              "      <td>0.0</td>\n",
              "      <td>0.0</td>\n",
              "      <td>0.0</td>\n",
              "      <td>0.0</td>\n",
              "      <td>0.0</td>\n",
              "      <td>0.0</td>\n",
              "      <td>0.0</td>\n",
              "      <td>0.0</td>\n",
              "      <td>0.0</td>\n",
              "      <td>0.0</td>\n",
              "      <td>0.0</td>\n",
              "      <td>24.248983</td>\n",
              "      <td>0.0</td>\n",
              "      <td>0.0</td>\n",
              "      <td>0.0</td>\n",
              "      <td>0.0</td>\n",
              "      <td>0.0</td>\n",
              "      <td>0.0</td>\n",
              "      <td>0.0</td>\n",
              "      <td>0.0</td>\n",
              "      <td>0.0</td>\n",
              "      <td>0.0</td>\n",
              "      <td>0.0</td>\n",
              "      <td>0.000000</td>\n",
              "      <td>0.0</td>\n",
              "      <td>0.0</td>\n",
              "      <td>0.0</td>\n",
              "      <td>0.000000</td>\n",
              "      <td>0.0</td>\n",
              "      <td>0.0</td>\n",
              "      <td>0.0</td>\n",
              "      <td>0.0</td>\n",
              "      <td>0.0</td>\n",
              "      <td>0.0</td>\n",
              "      <td>0.0</td>\n",
              "      <td>0.0</td>\n",
              "      <td>0.0</td>\n",
              "      <td>0</td>\n",
              "    </tr>\n",
              "  </tbody>\n",
              "</table>\n",
              "<p>5 rows × 25089 columns</p>\n",
              "</div>"
            ],
            "text/plain": [
              "     0    1    2    3    4    5  ...  25083  25084  25085  25086  25087  target\n",
              "0  0.0  0.0  0.0  0.0  0.0  0.0  ...    0.0    0.0    0.0    0.0    0.0       3\n",
              "1  0.0  0.0  0.0  0.0  0.0  0.0  ...    0.0    0.0    0.0    0.0    0.0       1\n",
              "2  0.0  0.0  0.0  0.0  0.0  0.0  ...    0.0    0.0    0.0    0.0    0.0       1\n",
              "3  0.0  0.0  0.0  0.0  0.0  0.0  ...    0.0    0.0    0.0    0.0    0.0       2\n",
              "4  0.0  0.0  0.0  0.0  0.0  0.0  ...    0.0    0.0    0.0    0.0    0.0       0\n",
              "\n",
              "[5 rows x 25089 columns]"
            ]
          },
          "metadata": {
            "tags": []
          },
          "execution_count": 110
        }
      ]
    },
    {
      "cell_type": "markdown",
      "metadata": {
        "id": "6WqkZKyFFt8S"
      },
      "source": [
        "#***Applying Logistics Regression***"
      ]
    },
    {
      "cell_type": "code",
      "metadata": {
        "id": "xagj4F-sFtS7"
      },
      "source": [
        "##creating X and y variables\r\n",
        "\r\n",
        "y=Pd_mat.target\r\n",
        "X=Pd_mat.drop(columns=\"target\")"
      ],
      "execution_count": null,
      "outputs": []
    },
    {
      "cell_type": "code",
      "metadata": {
        "id": "my8uQHfcMP8e",
        "outputId": "cf300bb5-92df-49e0-8f96-b097559a557d",
        "colab": {
          "base_uri": "https://localhost:8080/"
        }
      },
      "source": [
        "##splitting into training and test sets\r\n",
        "\r\n",
        "X_train, X_test, y_train, y_test = train_test_split(X, y, test_size=0.2)\r\n",
        "print (X_train.shape, y_train.shape)\r\n",
        "print (X_test.shape, y_test.shape)"
      ],
      "execution_count": 126,
      "outputs": [
        {
          "output_type": "stream",
          "text": [
            "(4800, 25088) (4800,)\n",
            "(1200, 25088) (1200,)\n"
          ],
          "name": "stdout"
        }
      ]
    },
    {
      "cell_type": "code",
      "metadata": {
        "id": "bQFTzUhEU9JX"
      },
      "source": [
        "!pip install hypopt"
      ],
      "execution_count": null,
      "outputs": []
    },
    {
      "cell_type": "code",
      "metadata": {
        "id": "sSLz5srzUJ2K"
      },
      "source": [
        "from sklearn.model_selection import GridSearchCV\r\n",
        "from hypopt import GridSearch\r\n",
        "param_grid = [{'C': [0.1,1,10],'solver': ['newton-cg','lbfgs']}]\r\n",
        " \r\n",
        "# Grid-search all parameter combinations using a validation set.\r\n",
        "opt = GridSearch(model = LogisticRegression(class_weight='balanced', multi_class=\"auto\",\r\n",
        "                        max_iter=200, random_state=1),param_grid = param_grid)\r\n",
        " \r\n",
        "opt.fit(X_train, y_train)\r\n",
        "print(opt.get_best_params())\r\n"
      ],
      "execution_count": null,
      "outputs": []
    },
    {
      "cell_type": "code",
      "metadata": {
        "id": "DfkqR828Reuy",
        "outputId": "7a92a059-3ca5-4daa-c967-1c848c302a6d",
        "colab": {
          "base_uri": "https://localhost:8080/"
        }
      },
      "source": [
        "preds=opt.predict(X_test)\r\n",
        "print(\"\\nAccuracy on Test Data: \", accuracy_score(y_test, preds))"
      ],
      "execution_count": 143,
      "outputs": [
        {
          "output_type": "stream",
          "text": [
            "\n",
            "Accuracy on Test Data:  0.24083333333333334\n"
          ],
          "name": "stdout"
        }
      ]
    },
    {
      "cell_type": "code",
      "metadata": {
        "id": "AYY1xRKb33yy"
      },
      "source": [
        "##reading,processing and saving the image data into image_array list\n",
        "j=0\n",
        "image_array=[None]*len(data.files)\n",
        "for i in data.files:\n",
        "    image=cv2.imread(i)\n",
        "    image=cv2.cvtColor(image,cv2.COLOR_BGR2GRAY)\n",
        "    image=cv2.resize(image,(100,100),cv2.INTER_LINEAR)\n",
        "    image=image.reshape(100*100)\n",
        "    image_array[j]=image\n",
        "    j+=1    "
      ],
      "execution_count": 111,
      "outputs": []
    },
    {
      "cell_type": "code",
      "metadata": {
        "id": "bLQPDiPi915a"
      },
      "source": [
        "##removing any duplicates in the Predictor Matrix\n",
        "Pd_mat.drop_duplicates()"
      ],
      "execution_count": null,
      "outputs": []
    },
    {
      "cell_type": "code",
      "metadata": {
        "id": "R2v_76hjAFWH",
        "outputId": "10e0bd8a-2647-40e4-81c6-88ba3d95eb09",
        "colab": {
          "base_uri": "https://localhost:8080/",
          "height": 285
        }
      },
      "source": [
        "##displaying sample image\n",
        "image_array=np.asarray(image_array)\n",
        "plt.imshow(image_array[100].reshape(100,100),cmap=\"gray\")"
      ],
      "execution_count": 112,
      "outputs": [
        {
          "output_type": "execute_result",
          "data": {
            "text/plain": [
              "<matplotlib.image.AxesImage at 0x7fbde45f4f60>"
            ]
          },
          "metadata": {
            "tags": []
          },
          "execution_count": 112
        },
        {
          "output_type": "display_data",
          "data": {
            "image/png": "[encoded data removed]",
            "text/plain": [
              "<Figure size 432x288 with 1 Axes>"
            ]
          },
          "metadata": {
            "tags": [],
            "needs_background": "light"
          }
        }
      ]
    },
    {
      "cell_type": "code",
      "metadata": {
        "id": "lIskTQjuA1k3"
      },
      "source": [
        ""
      ],
      "execution_count": null,
      "outputs": []
    }
  ]
}