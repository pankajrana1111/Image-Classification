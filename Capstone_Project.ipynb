{
  "nbformat": 4,
  "nbformat_minor": 0,
  "metadata": {
    "colab": {
      "name": "Capstone Project.ipynb",
      "provenance": [],
      "collapsed_sections": [],
      "authorship_tag": "ABX9TyNZbWiVFkxpqFQZGu+ihKq/",
      "include_colab_link": true
    },
    "kernelspec": {
      "name": "python3",
      "display_name": "Python 3"
    }
  },
  "cells": [
    {
      "cell_type": "markdown",
      "metadata": {
        "id": "view-in-github",
        "colab_type": "text"
      },
      "source": [
        "<a href=\"https://colab.research.google.com/github/pankajrana1111/Image-Classification/blob/pankajrana1111-patch-1/Capstone_Project.ipynb\" target=\"_parent\"><img src=\"https://colab.research.google.com/assets/colab-badge.svg\" alt=\"Open In Colab\"/></a>"
      ]
    },
    {
      "cell_type": "markdown",
      "metadata": {
        "id": "5E4PQIs8JL9l"
      },
      "source": [
        "#***Loading dataset from GitHub***"
      ]
    },
    {
      "cell_type": "code",
      "metadata": {
        "id": "-rTUk66Sa91N",
        "outputId": "0a2fbf2a-3820-43bf-bc69-7c22a22921ca",
        "colab": {
          "base_uri": "https://localhost:8080/"
        }
      },
      "source": [
        "#getting repository from github\n",
        "!git clone https://github.com/pankajrana1111/Image-Classification.git"
      ],
      "execution_count": 1,
      "outputs": [
        {
          "output_type": "stream",
          "text": [
            "Cloning into 'Image-Classification'...\n",
            "remote: Enumerating objects: 12, done.\u001b[K\n",
            "remote: Counting objects: 100% (12/12), done.\u001b[K\n",
            "remote: Compressing objects: 100% (12/12), done.\u001b[K\n",
            "remote: Total 1190 (delta 5), reused 0 (delta 0), pack-reused 1178\u001b[K\n",
            "Receiving objects: 100% (1190/1190), 135.19 MiB | 23.94 MiB/s, done.\n",
            "Resolving deltas: 100% (42/42), done.\n"
          ],
          "name": "stdout"
        }
      ]
    },
    {
      "cell_type": "code",
      "metadata": {
        "id": "K-shpXfw2ccS",
        "outputId": "e2659450-3afe-4b67-f850-3c4f631046e2",
        "colab": {
          "base_uri": "https://localhost:8080/",
          "height": 558
        }
      },
      "source": [
        "#extacting data from the archived files\n",
        "!pip install patool\n",
        "import patoolib\n",
        "patoolib.extract_archive(\"Image-Classification/fashion1.rar\", outdir=\"Image-Classification\")\n",
        "patoolib.extract_archive(\"Image-Classification/fashion2.rar\", outdir=\"Image-Classification\")\n",
        "patoolib.extract_archive(\"Image-Classification/fashion3.rar\", outdir=\"Image-Classification\")\n",
        "patoolib.extract_archive(\"Image-Classification/fashion4.rar\", outdir=\"Image-Classification\")\n",
        "patoolib.extract_archive(\"Image-Classification/fashion5.rar\", outdir=\"Image-Classification\")\n",
        "patoolib.extract_archive(\"Image-Classification/fashion6.rar\", outdir=\"Image-Classification\")"
      ],
      "execution_count": 2,
      "outputs": [
        {
          "output_type": "stream",
          "text": [
            "Collecting patool\n",
            "\u001b[?25l  Downloading https://files.pythonhosted.org/packages/43/94/52243ddff508780dd2d8110964320ab4851134a55ab102285b46e740f76a/patool-1.12-py2.py3-none-any.whl (77kB)\n",
            "\r\u001b[K     |████▎                           | 10kB 18.3MB/s eta 0:00:01\r\u001b[K     |████████▌                       | 20kB 20.2MB/s eta 0:00:01\r\u001b[K     |████████████▊                   | 30kB 15.2MB/s eta 0:00:01\r\u001b[K     |█████████████████               | 40kB 14.9MB/s eta 0:00:01\r\u001b[K     |█████████████████████▏          | 51kB 16.0MB/s eta 0:00:01\r\u001b[K     |█████████████████████████▍      | 61kB 15.2MB/s eta 0:00:01\r\u001b[K     |█████████████████████████████▋  | 71kB 13.5MB/s eta 0:00:01\r\u001b[K     |████████████████████████████████| 81kB 5.8MB/s \n",
            "\u001b[?25hInstalling collected packages: patool\n",
            "Successfully installed patool-1.12\n",
            "patool: Extracting Image-Classification/fashion1.rar ...\n",
            "patool: running /usr/bin/unrar x -- /content/Image-Classification/fashion1.rar\n",
            "patool:     with cwd='Image-Classification'\n",
            "patool: ... Image-Classification/fashion1.rar extracted to `Image-Classification'.\n",
            "patool: Extracting Image-Classification/fashion2.rar ...\n",
            "patool: running /usr/bin/unrar x -- /content/Image-Classification/fashion2.rar\n",
            "patool:     with cwd='Image-Classification'\n",
            "patool: ... Image-Classification/fashion2.rar extracted to `Image-Classification'.\n",
            "patool: Extracting Image-Classification/fashion3.rar ...\n",
            "patool: running /usr/bin/unrar x -- /content/Image-Classification/fashion3.rar\n",
            "patool:     with cwd='Image-Classification'\n",
            "patool: ... Image-Classification/fashion3.rar extracted to `Image-Classification'.\n",
            "patool: Extracting Image-Classification/fashion4.rar ...\n",
            "patool: running /usr/bin/unrar x -- /content/Image-Classification/fashion4.rar\n",
            "patool:     with cwd='Image-Classification'\n",
            "patool: ... Image-Classification/fashion4.rar extracted to `Image-Classification'.\n",
            "patool: Extracting Image-Classification/fashion5.rar ...\n",
            "patool: running /usr/bin/unrar x -- /content/Image-Classification/fashion5.rar\n",
            "patool:     with cwd='Image-Classification'\n",
            "patool: ... Image-Classification/fashion5.rar extracted to `Image-Classification'.\n",
            "patool: Extracting Image-Classification/fashion6.rar ...\n",
            "patool: running /usr/bin/unrar x -- /content/Image-Classification/fashion6.rar\n",
            "patool:     with cwd='Image-Classification'\n",
            "patool: ... Image-Classification/fashion6.rar extracted to `Image-Classification'.\n"
          ],
          "name": "stdout"
        },
        {
          "output_type": "execute_result",
          "data": {
            "application/vnd.google.colaboratory.intrinsic+json": {
              "type": "string"
            },
            "text/plain": [
              "'Image-Classification'"
            ]
          },
          "metadata": {
            "tags": []
          },
          "execution_count": 2
        }
      ]
    },
    {
      "cell_type": "code",
      "metadata": {
        "id": "lEP4ULC2K0qy"
      },
      "source": [
        "# importing all required libararies. The libaries are imported in the sequence of their usage.\n",
        "import os\n",
        "import numpy as np\n",
        "import pandas as pd\n",
        "import matplotlib.pyplot as plt\n",
        "%matplotlib inline\n",
        "from sklearn import preprocessing\n",
        "import cv2\n",
        "from keras.preprocessing.image import load_img\n",
        "from keras.preprocessing.image import img_to_array\n",
        "from keras.applications import VGG16\n",
        "from keras.applications import imagenet_utils\n",
        "from sklearn.model_selection import train_test_split\n",
        "from sklearn.linear_model import LogisticRegression\n",
        "from sklearn.metrics import confusion_matrix, accuracy_score"
      ],
      "execution_count": 3,
      "outputs": []
    },
    {
      "cell_type": "code",
      "metadata": {
        "id": "OYRnGdJFyueb"
      },
      "source": [
        "##creating the lists of image locations\n",
        "image_loc1=[os.path.join(\"Image-Classification/fashion1\",img) for img in os.listdir(\"Image-Classification/fashion1\")]\n",
        "image_loc2=[os.path.join(\"Image-Classification/fashion2\",img) for img in os.listdir(\"Image-Classification/fashion2\")]\n",
        "image_loc3=[os.path.join(\"Image-Classification/fashion3\",img) for img in os.listdir(\"Image-Classification/fashion3\")]\n",
        "image_loc4=[os.path.join(\"Image-Classification/fashion4\",img) for img in os.listdir(\"Image-Classification/fashion4\")]\n",
        "image_loc5=[os.path.join(\"Image-Classification/fashion5\",img) for img in os.listdir(\"Image-Classification/fashion5\")]\n",
        "image_loc6=[os.path.join(\"Image-Classification/fashion6\",img) for img in os.listdir(\"Image-Classification/fashion6\")]"
      ],
      "execution_count": 4,
      "outputs": []
    },
    {
      "cell_type": "code",
      "metadata": {
        "id": "lblMGXNI2Wls",
        "outputId": "4851b8b5-d618-4a83-b033-e70c9ff85b13",
        "colab": {
          "base_uri": "https://localhost:8080/"
        }
      },
      "source": [
        "##combining all the images in one list\n",
        "image_loc_list=image_loc1 + image_loc2 + image_loc3 + image_loc4 + image_loc5 + image_loc6\n",
        "len(image_loc_list)"
      ],
      "execution_count": 5,
      "outputs": [
        {
          "output_type": "execute_result",
          "data": {
            "text/plain": [
              "6000"
            ]
          },
          "metadata": {
            "tags": []
          },
          "execution_count": 5
        }
      ]
    },
    {
      "cell_type": "code",
      "metadata": {
        "id": "nm8pX96FxWFQ",
        "outputId": "b3ce1a30-36ce-4007-8400-8c3eb95fc022",
        "colab": {
          "base_uri": "https://localhost:8080/"
        }
      },
      "source": [
        "image_loc_list[0:10]"
      ],
      "execution_count": 6,
      "outputs": [
        {
          "output_type": "execute_result",
          "data": {
            "text/plain": [
              "['Image-Classification/fashion1/5da81b60b25b035d1d17a72c_3.jpg',\n",
              " 'Image-Classification/fashion1/5da81b7ab25b035d1d17a80f_2.jpg',\n",
              " 'Image-Classification/fashion1/5da81af07d3a9baa211f81dd_2.jpg',\n",
              " 'Image-Classification/fashion1/5da81abeb25b035d1d17a4cc_2.jpg',\n",
              " 'Image-Classification/fashion1/5da81b2a6504fb65c4de3da5_2.jpg',\n",
              " 'Image-Classification/fashion1/5da81abeb25b035d1d17a501_2.jpg',\n",
              " 'Image-Classification/fashion1/5da81b60b25b035d1d17a70a_0.jpg',\n",
              " 'Image-Classification/fashion1/5da81b177f3e301b4504b43d_0.jpg',\n",
              " 'Image-Classification/fashion1/5da81acb7d3a9baa211f7f77_0.jpg',\n",
              " 'Image-Classification/fashion1/5da81ae27d3a9baa211f8106_3.jpg']"
            ]
          },
          "metadata": {
            "tags": []
          },
          "execution_count": 6
        }
      ]
    },
    {
      "cell_type": "code",
      "metadata": {
        "id": "-aHeQpQm4Ppa"
      },
      "source": [
        ""
      ],
      "execution_count": null,
      "outputs": []
    },
    {
      "cell_type": "code",
      "metadata": {
        "id": "zyx1c4EPnyKA"
      },
      "source": [
        "## the order of the list obtained should match with the image coloum in the dataframe data\r\n",
        "data=pd.read_csv(\"Image-Classification/train.csv\")\r\n",
        "sorted_image_list=[]\r\n",
        "for image in data.images:\r\n",
        "    for item in image_loc_list:\r\n",
        "        if image in item:\r\n",
        "            sorted_image_list.append(item)\r\n",
        "            \r\n",
        "### the output contains a list of image locations exactly in the same order as present in the test file. This activity was done\r\n",
        "##  to create exactly the same labels against the obtained combined list obtained from six folders.            "
      ],
      "execution_count": 9,
      "outputs": []
    },
    {
      "cell_type": "code",
      "metadata": {
        "id": "s4gSxLb_4f4T",
        "outputId": "3bbebe4c-3f59-4bed-c8ae-e6320a4fcebd",
        "colab": {
          "base_uri": "https://localhost:8080/"
        }
      },
      "source": [
        "sorted_image_list[0:10]"
      ],
      "execution_count": 10,
      "outputs": [
        {
          "output_type": "execute_result",
          "data": {
            "text/plain": [
              "['Image-Classification/fashion2/5da81ceb7861c2af6a5a89a7_1.jpg',\n",
              " 'Image-Classification/fashion3/5da81d8a7861c2af6a5a901c_3.jpg',\n",
              " 'Image-Classification/fashion4/5da820f26504fb65da0043e6_0.jpg',\n",
              " 'Image-Classification/fashion2/5da81c026504fb65cea700d2_0.jpg',\n",
              " 'Image-Classification/fashion2/5da81d2c7861c2af6a5a8c64_2.jpg',\n",
              " 'Image-Classification/fashion3/5da81d8a7861c2af6a5a9051_3.jpg',\n",
              " 'Image-Classification/fashion1/5da81b33b25b035d1d17a612_0.jpg',\n",
              " 'Image-Classification/fashion1/5da81b60b25b035d1d17a72a_3.jpg',\n",
              " 'Image-Classification/fashion4/5da821f66504fb65da005733_1.jpg',\n",
              " 'Image-Classification/fashion3/5da81eff7f3e301b4504b90b_0.jpg']"
            ]
          },
          "metadata": {
            "tags": []
          },
          "execution_count": 10
        }
      ]
    },
    {
      "cell_type": "code",
      "metadata": {
        "id": "r5ZnEzqY731H"
      },
      "source": [
        "## replacing the files coloum with sorted_image_list in train dataframe\r\n",
        "\r\n",
        "data[\"files\"]=sorted_image_list"
      ],
      "execution_count": 11,
      "outputs": []
    },
    {
      "cell_type": "markdown",
      "metadata": {
        "id": "XU4hx098-Zru"
      },
      "source": [
        "#***Exploratory Data Analysis***"
      ]
    },
    {
      "cell_type": "code",
      "metadata": {
        "id": "5w5cNiIr7Rl_",
        "outputId": "4fd984ad-a4a5-4d66-fff8-ec1c65c220a1",
        "colab": {
          "base_uri": "https://localhost:8080/",
          "height": 202
        }
      },
      "source": [
        "data.head()"
      ],
      "execution_count": 12,
      "outputs": [
        {
          "output_type": "execute_result",
          "data": {
            "text/html": [
              "<div>\n",
              "<style scoped>\n",
              "    .dataframe tbody tr th:only-of-type {\n",
              "        vertical-align: middle;\n",
              "    }\n",
              "\n",
              "    .dataframe tbody tr th {\n",
              "        vertical-align: top;\n",
              "    }\n",
              "\n",
              "    .dataframe thead th {\n",
              "        text-align: right;\n",
              "    }\n",
              "</style>\n",
              "<table border=\"1\" class=\"dataframe\">\n",
              "  <thead>\n",
              "    <tr style=\"text-align: right;\">\n",
              "      <th></th>\n",
              "      <th>files</th>\n",
              "      <th>target</th>\n",
              "      <th>images</th>\n",
              "    </tr>\n",
              "  </thead>\n",
              "  <tbody>\n",
              "    <tr>\n",
              "      <th>0</th>\n",
              "      <td>Image-Classification/fashion2/5da81ceb7861c2af...</td>\n",
              "      <td>shoes</td>\n",
              "      <td>5da81ceb7861c2af6a5a89a7_1.jpg</td>\n",
              "    </tr>\n",
              "    <tr>\n",
              "      <th>1</th>\n",
              "      <td>Image-Classification/fashion3/5da81d8a7861c2af...</td>\n",
              "      <td>beauty</td>\n",
              "      <td>5da81d8a7861c2af6a5a901c_3.jpg</td>\n",
              "    </tr>\n",
              "    <tr>\n",
              "      <th>2</th>\n",
              "      <td>Image-Classification/fashion4/5da820f26504fb65...</td>\n",
              "      <td>beauty</td>\n",
              "      <td>5da820f26504fb65da0043e6_0.jpg</td>\n",
              "    </tr>\n",
              "    <tr>\n",
              "      <th>3</th>\n",
              "      <td>Image-Classification/fashion2/5da81c026504fb65...</td>\n",
              "      <td>jewelry and watches</td>\n",
              "      <td>5da81c026504fb65cea700d2_0.jpg</td>\n",
              "    </tr>\n",
              "    <tr>\n",
              "      <th>4</th>\n",
              "      <td>Image-Classification/fashion2/5da81d2c7861c2af...</td>\n",
              "      <td>bags</td>\n",
              "      <td>5da81d2c7861c2af6a5a8c64_2.jpg</td>\n",
              "    </tr>\n",
              "  </tbody>\n",
              "</table>\n",
              "</div>"
            ],
            "text/plain": [
              "                                               files  ...                          images\n",
              "0  Image-Classification/fashion2/5da81ceb7861c2af...  ...  5da81ceb7861c2af6a5a89a7_1.jpg\n",
              "1  Image-Classification/fashion3/5da81d8a7861c2af...  ...  5da81d8a7861c2af6a5a901c_3.jpg\n",
              "2  Image-Classification/fashion4/5da820f26504fb65...  ...  5da820f26504fb65da0043e6_0.jpg\n",
              "3  Image-Classification/fashion2/5da81c026504fb65...  ...  5da81c026504fb65cea700d2_0.jpg\n",
              "4  Image-Classification/fashion2/5da81d2c7861c2af...  ...  5da81d2c7861c2af6a5a8c64_2.jpg\n",
              "\n",
              "[5 rows x 3 columns]"
            ]
          },
          "metadata": {
            "tags": []
          },
          "execution_count": 12
        }
      ]
    },
    {
      "cell_type": "markdown",
      "metadata": {
        "id": "TyBhTrgG7Bi1"
      },
      "source": [
        "COMMENT: From the first look of the dataframe we observed that the target variable contains the categories of the images."
      ]
    },
    {
      "cell_type": "code",
      "metadata": {
        "id": "xD5CBJ6G7fbO",
        "outputId": "ed566f52-a47f-4e31-9885-1429ae59080b",
        "colab": {
          "base_uri": "https://localhost:8080/"
        }
      },
      "source": [
        "#checking size of the data\r\n",
        "data.shape"
      ],
      "execution_count": 13,
      "outputs": [
        {
          "output_type": "execute_result",
          "data": {
            "text/plain": [
              "(6000, 3)"
            ]
          },
          "metadata": {
            "tags": []
          },
          "execution_count": 13
        }
      ]
    },
    {
      "cell_type": "code",
      "metadata": {
        "id": "W2RnSD5Pl4Ou",
        "outputId": "360c5ad4-167f-4980-ae3f-3e8c4e2a4d20",
        "colab": {
          "base_uri": "https://localhost:8080/"
        }
      },
      "source": [
        "#checking for any missing values in the data\r\n",
        "data.isnull().sum()"
      ],
      "execution_count": 14,
      "outputs": [
        {
          "output_type": "execute_result",
          "data": {
            "text/plain": [
              "files     0\n",
              "target    0\n",
              "images    0\n",
              "dtype: int64"
            ]
          },
          "metadata": {
            "tags": []
          },
          "execution_count": 14
        }
      ]
    },
    {
      "cell_type": "code",
      "metadata": {
        "id": "dpY3dALz-XPx",
        "outputId": "93de87a8-d3f0-40a2-ea9c-5049e907ca38",
        "colab": {
          "base_uri": "https://localhost:8080/",
          "height": 300
        }
      },
      "source": [
        "##plotting the no. of images in each category\n",
        "y_labels=data.target.unique()\n",
        "print (y_labels)\n",
        "counts=[data.target.tolist().count(i) for i in y_labels]\n",
        "print(counts)\n",
        "plt.barh(y_labels,counts,align=\"center\",alpha=0.9)\n",
        "plt.show()"
      ],
      "execution_count": 19,
      "outputs": [
        {
          "output_type": "stream",
          "text": [
            "['shoes' 'beauty' 'jewelry and watches' 'bags']\n",
            "[1465, 1524, 1503, 1508]\n"
          ],
          "name": "stdout"
        },
        {
          "output_type": "display_data",
          "data": {
            "image/png": "[encoded data removed]",
            "text/plain": [
              "<Figure size 432x288 with 1 Axes>"
            ]
          },
          "metadata": {
            "tags": [],
            "needs_background": "light"
          }
        }
      ]
    },
    {
      "cell_type": "markdown",
      "metadata": {
        "id": "ABFH-_1QTNmF"
      },
      "source": [
        "COMMENT: In the plot we observed that the no. of images in each category are almost equal and hence we have a balanced dataset."
      ]
    },
    {
      "cell_type": "code",
      "metadata": {
        "id": "PvEqExIfnzbY"
      },
      "source": [
        "# plotting sample images\r\n",
        "def show_imgs(X):\r\n",
        "    plt.figure(figsize=(8, 8))\r\n",
        "    k = 0\r\n",
        "    for i in range(0,4):\r\n",
        "        for j in range(0,4):\r\n",
        "            image = load_img(data.files[k], target_size=(224, 224))\r\n",
        "            plt.subplot2grid((4,4),(i,j))\r\n",
        "            plt.imshow(image)\r\n",
        "            k = k+1\r\n",
        "    plt.show()"
      ],
      "execution_count": 20,
      "outputs": []
    },
    {
      "cell_type": "code",
      "metadata": {
        "id": "BdRXPeAipPBO",
        "outputId": "6cc25e53-2fc0-48c0-bf4d-2c514215d9f7",
        "colab": {
          "base_uri": "https://localhost:8080/",
          "height": 487
        }
      },
      "source": [
        "show_imgs(data.files)"
      ],
      "execution_count": 21,
      "outputs": [
        {
          "output_type": "display_data",
          "data": {
            "image/png": "[encoded data removed]",
            "text/plain": [
              "<Figure size 576x576 with 16 Axes>"
            ]
          },
          "metadata": {
            "tags": [],
            "needs_background": "light"
          }
        }
      ]
    },
    {
      "cell_type": "markdown",
      "metadata": {
        "id": "JeFW122S9Wrh"
      },
      "source": [
        "#***Creating Lables***"
      ]
    },
    {
      "cell_type": "code",
      "metadata": {
        "id": "jwwMt4_v9mAT"
      },
      "source": [
        "label_encoder = preprocessing.LabelEncoder() \r\n",
        "labels=list(label_encoder.fit_transform(data[\"target\"]))"
      ],
      "execution_count": 22,
      "outputs": []
    },
    {
      "cell_type": "code",
      "metadata": {
        "id": "yvuEbRKICXY3"
      },
      "source": [
        "data[\"labels\"]=labels"
      ],
      "execution_count": 23,
      "outputs": []
    },
    {
      "cell_type": "code",
      "metadata": {
        "id": "952adBaUC2DS",
        "outputId": "297a50ad-7519-45c8-8b25-0bf7e2f0302c",
        "colab": {
          "base_uri": "https://localhost:8080/",
          "height": 662
        }
      },
      "source": [
        "data.head(20)"
      ],
      "execution_count": 24,
      "outputs": [
        {
          "output_type": "execute_result",
          "data": {
            "text/html": [
              "<div>\n",
              "<style scoped>\n",
              "    .dataframe tbody tr th:only-of-type {\n",
              "        vertical-align: middle;\n",
              "    }\n",
              "\n",
              "    .dataframe tbody tr th {\n",
              "        vertical-align: top;\n",
              "    }\n",
              "\n",
              "    .dataframe thead th {\n",
              "        text-align: right;\n",
              "    }\n",
              "</style>\n",
              "<table border=\"1\" class=\"dataframe\">\n",
              "  <thead>\n",
              "    <tr style=\"text-align: right;\">\n",
              "      <th></th>\n",
              "      <th>files</th>\n",
              "      <th>target</th>\n",
              "      <th>images</th>\n",
              "      <th>labels</th>\n",
              "    </tr>\n",
              "  </thead>\n",
              "  <tbody>\n",
              "    <tr>\n",
              "      <th>0</th>\n",
              "      <td>Image-Classification/fashion2/5da81ceb7861c2af...</td>\n",
              "      <td>shoes</td>\n",
              "      <td>5da81ceb7861c2af6a5a89a7_1.jpg</td>\n",
              "      <td>3</td>\n",
              "    </tr>\n",
              "    <tr>\n",
              "      <th>1</th>\n",
              "      <td>Image-Classification/fashion3/5da81d8a7861c2af...</td>\n",
              "      <td>beauty</td>\n",
              "      <td>5da81d8a7861c2af6a5a901c_3.jpg</td>\n",
              "      <td>1</td>\n",
              "    </tr>\n",
              "    <tr>\n",
              "      <th>2</th>\n",
              "      <td>Image-Classification/fashion4/5da820f26504fb65...</td>\n",
              "      <td>beauty</td>\n",
              "      <td>5da820f26504fb65da0043e6_0.jpg</td>\n",
              "      <td>1</td>\n",
              "    </tr>\n",
              "    <tr>\n",
              "      <th>3</th>\n",
              "      <td>Image-Classification/fashion2/5da81c026504fb65...</td>\n",
              "      <td>jewelry and watches</td>\n",
              "      <td>5da81c026504fb65cea700d2_0.jpg</td>\n",
              "      <td>2</td>\n",
              "    </tr>\n",
              "    <tr>\n",
              "      <th>4</th>\n",
              "      <td>Image-Classification/fashion2/5da81d2c7861c2af...</td>\n",
              "      <td>bags</td>\n",
              "      <td>5da81d2c7861c2af6a5a8c64_2.jpg</td>\n",
              "      <td>0</td>\n",
              "    </tr>\n",
              "    <tr>\n",
              "      <th>5</th>\n",
              "      <td>Image-Classification/fashion3/5da81d8a7861c2af...</td>\n",
              "      <td>jewelry and watches</td>\n",
              "      <td>5da81d8a7861c2af6a5a9051_3.jpg</td>\n",
              "      <td>2</td>\n",
              "    </tr>\n",
              "    <tr>\n",
              "      <th>6</th>\n",
              "      <td>Image-Classification/fashion1/5da81b33b25b035d...</td>\n",
              "      <td>bags</td>\n",
              "      <td>5da81b33b25b035d1d17a612_0.jpg</td>\n",
              "      <td>0</td>\n",
              "    </tr>\n",
              "    <tr>\n",
              "      <th>7</th>\n",
              "      <td>Image-Classification/fashion1/5da81b60b25b035d...</td>\n",
              "      <td>shoes</td>\n",
              "      <td>5da81b60b25b035d1d17a72a_3.jpg</td>\n",
              "      <td>3</td>\n",
              "    </tr>\n",
              "    <tr>\n",
              "      <th>8</th>\n",
              "      <td>Image-Classification/fashion4/5da821f66504fb65...</td>\n",
              "      <td>beauty</td>\n",
              "      <td>5da821f66504fb65da005733_1.jpg</td>\n",
              "      <td>1</td>\n",
              "    </tr>\n",
              "    <tr>\n",
              "      <th>9</th>\n",
              "      <td>Image-Classification/fashion3/5da81eff7f3e301b...</td>\n",
              "      <td>bags</td>\n",
              "      <td>5da81eff7f3e301b4504b90b_0.jpg</td>\n",
              "      <td>0</td>\n",
              "    </tr>\n",
              "    <tr>\n",
              "      <th>10</th>\n",
              "      <td>Image-Classification/fashion4/5da8190b6504fb65...</td>\n",
              "      <td>shoes</td>\n",
              "      <td>5da8190b6504fb65cb2615c6_3.jpg</td>\n",
              "      <td>3</td>\n",
              "    </tr>\n",
              "    <tr>\n",
              "      <th>11</th>\n",
              "      <td>Image-Classification/fashion3/5da81d047861c2af...</td>\n",
              "      <td>shoes</td>\n",
              "      <td>5da81d047861c2af6a5a8ac5_0.jpg</td>\n",
              "      <td>3</td>\n",
              "    </tr>\n",
              "    <tr>\n",
              "      <th>12</th>\n",
              "      <td>Image-Classification/fashion1/5da81ad87d3a9baa...</td>\n",
              "      <td>bags</td>\n",
              "      <td>5da81ad87d3a9baa211f7ffb_0.jpg</td>\n",
              "      <td>0</td>\n",
              "    </tr>\n",
              "    <tr>\n",
              "      <th>13</th>\n",
              "      <td>Image-Classification/fashion5/5da822126504fb65...</td>\n",
              "      <td>beauty</td>\n",
              "      <td>5da822126504fb65da0059cc_3.jpg</td>\n",
              "      <td>1</td>\n",
              "    </tr>\n",
              "    <tr>\n",
              "      <th>14</th>\n",
              "      <td>Image-Classification/fashion2/5da81cc57861c2af...</td>\n",
              "      <td>jewelry and watches</td>\n",
              "      <td>5da81cc57861c2af6a5a87da_2.jpg</td>\n",
              "      <td>2</td>\n",
              "    </tr>\n",
              "    <tr>\n",
              "      <th>15</th>\n",
              "      <td>Image-Classification/fashion3/5da81ea66504fb65...</td>\n",
              "      <td>jewelry and watches</td>\n",
              "      <td>5da81ea66504fb65cea7019a_0.jpg</td>\n",
              "      <td>2</td>\n",
              "    </tr>\n",
              "    <tr>\n",
              "      <th>16</th>\n",
              "      <td>Image-Classification/fashion5/5da820116504fb65...</td>\n",
              "      <td>shoes</td>\n",
              "      <td>5da820116504fb65cea70290_3.jpg</td>\n",
              "      <td>3</td>\n",
              "    </tr>\n",
              "    <tr>\n",
              "      <th>17</th>\n",
              "      <td>Image-Classification/fashion3/5da81d36b25b035d...</td>\n",
              "      <td>shoes</td>\n",
              "      <td>5da81d36b25b035d1d17abe9_3.jpg</td>\n",
              "      <td>3</td>\n",
              "    </tr>\n",
              "    <tr>\n",
              "      <th>18</th>\n",
              "      <td>Image-Classification/fashion4/5da820df6504fb65...</td>\n",
              "      <td>beauty</td>\n",
              "      <td>5da820df6504fb65da0042ea_3.jpg</td>\n",
              "      <td>1</td>\n",
              "    </tr>\n",
              "    <tr>\n",
              "      <th>19</th>\n",
              "      <td>Image-Classification/fashion5/5da822446504fb65...</td>\n",
              "      <td>jewelry and watches</td>\n",
              "      <td>5da822446504fb65c4de4135_2.jpg</td>\n",
              "      <td>2</td>\n",
              "    </tr>\n",
              "  </tbody>\n",
              "</table>\n",
              "</div>"
            ],
            "text/plain": [
              "                                                files  ... labels\n",
              "0   Image-Classification/fashion2/5da81ceb7861c2af...  ...      3\n",
              "1   Image-Classification/fashion3/5da81d8a7861c2af...  ...      1\n",
              "2   Image-Classification/fashion4/5da820f26504fb65...  ...      1\n",
              "3   Image-Classification/fashion2/5da81c026504fb65...  ...      2\n",
              "4   Image-Classification/fashion2/5da81d2c7861c2af...  ...      0\n",
              "5   Image-Classification/fashion3/5da81d8a7861c2af...  ...      2\n",
              "6   Image-Classification/fashion1/5da81b33b25b035d...  ...      0\n",
              "7   Image-Classification/fashion1/5da81b60b25b035d...  ...      3\n",
              "8   Image-Classification/fashion4/5da821f66504fb65...  ...      1\n",
              "9   Image-Classification/fashion3/5da81eff7f3e301b...  ...      0\n",
              "10  Image-Classification/fashion4/5da8190b6504fb65...  ...      3\n",
              "11  Image-Classification/fashion3/5da81d047861c2af...  ...      3\n",
              "12  Image-Classification/fashion1/5da81ad87d3a9baa...  ...      0\n",
              "13  Image-Classification/fashion5/5da822126504fb65...  ...      1\n",
              "14  Image-Classification/fashion2/5da81cc57861c2af...  ...      2\n",
              "15  Image-Classification/fashion3/5da81ea66504fb65...  ...      2\n",
              "16  Image-Classification/fashion5/5da820116504fb65...  ...      3\n",
              "17  Image-Classification/fashion3/5da81d36b25b035d...  ...      3\n",
              "18  Image-Classification/fashion4/5da820df6504fb65...  ...      1\n",
              "19  Image-Classification/fashion5/5da822446504fb65...  ...      2\n",
              "\n",
              "[20 rows x 4 columns]"
            ]
          },
          "metadata": {
            "tags": []
          },
          "execution_count": 24
        }
      ]
    },
    {
      "cell_type": "markdown",
      "metadata": {
        "id": "NU95hcTnq52_"
      },
      "source": [
        "#***Feature Extraction***"
      ]
    },
    {
      "cell_type": "code",
      "metadata": {
        "id": "d3dVRuForFAA",
        "outputId": "56adb4ff-cb61-47d1-c27e-83590bad3358",
        "colab": {
          "base_uri": "https://localhost:8080/"
        }
      },
      "source": [
        "# load the VGG16 network\r\n",
        "print(\"[INFO] loading network...\")\r\n",
        " \r\n",
        "# chop the top dense layers, include_top=False\r\n",
        "model = VGG16(weights=\"imagenet\", include_top=False)\r\n",
        "model.summary()"
      ],
      "execution_count": 25,
      "outputs": [
        {
          "output_type": "stream",
          "text": [
            "[INFO] loading network...\n",
            "Downloading data from https://storage.googleapis.com/tensorflow/keras-applications/vgg16/vgg16_weights_tf_dim_ordering_tf_kernels_notop.h5\n",
            "58892288/58889256 [==============================] - 1s 0us/step\n",
            "Model: \"vgg16\"\n",
            "_________________________________________________________________\n",
            "Layer (type)                 Output Shape              Param #   \n",
            "=================================================================\n",
            "input_1 (InputLayer)         [(None, None, None, 3)]   0         \n",
            "_________________________________________________________________\n",
            "block1_conv1 (Conv2D)        (None, None, None, 64)    1792      \n",
            "_________________________________________________________________\n",
            "block1_conv2 (Conv2D)        (None, None, None, 64)    36928     \n",
            "_________________________________________________________________\n",
            "block1_pool (MaxPooling2D)   (None, None, None, 64)    0         \n",
            "_________________________________________________________________\n",
            "block2_conv1 (Conv2D)        (None, None, None, 128)   73856     \n",
            "_________________________________________________________________\n",
            "block2_conv2 (Conv2D)        (None, None, None, 128)   147584    \n",
            "_________________________________________________________________\n",
            "block2_pool (MaxPooling2D)   (None, None, None, 128)   0         \n",
            "_________________________________________________________________\n",
            "block3_conv1 (Conv2D)        (None, None, None, 256)   295168    \n",
            "_________________________________________________________________\n",
            "block3_conv2 (Conv2D)        (None, None, None, 256)   590080    \n",
            "_________________________________________________________________\n",
            "block3_conv3 (Conv2D)        (None, None, None, 256)   590080    \n",
            "_________________________________________________________________\n",
            "block3_pool (MaxPooling2D)   (None, None, None, 256)   0         \n",
            "_________________________________________________________________\n",
            "block4_conv1 (Conv2D)        (None, None, None, 512)   1180160   \n",
            "_________________________________________________________________\n",
            "block4_conv2 (Conv2D)        (None, None, None, 512)   2359808   \n",
            "_________________________________________________________________\n",
            "block4_conv3 (Conv2D)        (None, None, None, 512)   2359808   \n",
            "_________________________________________________________________\n",
            "block4_pool (MaxPooling2D)   (None, None, None, 512)   0         \n",
            "_________________________________________________________________\n",
            "block5_conv1 (Conv2D)        (None, None, None, 512)   2359808   \n",
            "_________________________________________________________________\n",
            "block5_conv2 (Conv2D)        (None, None, None, 512)   2359808   \n",
            "_________________________________________________________________\n",
            "block5_conv3 (Conv2D)        (None, None, None, 512)   2359808   \n",
            "_________________________________________________________________\n",
            "block5_pool (MaxPooling2D)   (None, None, None, 512)   0         \n",
            "=================================================================\n",
            "Total params: 14,714,688\n",
            "Trainable params: 14,714,688\n",
            "Non-trainable params: 0\n",
            "_________________________________________________________________\n"
          ],
          "name": "stdout"
        }
      ]
    },
    {
      "cell_type": "code",
      "metadata": {
        "id": "240htIp8saDO"
      },
      "source": [
        "# Extracting/Creating features of each image in our dataset\r\n",
        "def create_features(dataset, pre_model):\r\n",
        " \r\n",
        "    x_scratch = []\r\n",
        " \r\n",
        "    # loop over the images\r\n",
        "    for imagePath in dataset:\r\n",
        " \r\n",
        "        # load the input image and image is resized to 224x224 pixels\r\n",
        "        image = load_img(imagePath, target_size=(224, 224))\r\n",
        "        image = img_to_array(image)\r\n",
        " \r\n",
        "        # preprocess the image by (1) expanding the dimensions and\r\n",
        "        # (2) subtracting the mean RGB pixel intensity from the\r\n",
        "        # ImageNet dataset\r\n",
        "        image = np.expand_dims(image, axis=0)\r\n",
        "        image = imagenet_utils.preprocess_input(image)\r\n",
        " \r\n",
        "        # add the image to the batch\r\n",
        "        x_scratch.append(image)\r\n",
        " \r\n",
        "    x = np.vstack(x_scratch)\r\n",
        "    features = pre_model.predict(x, batch_size=32)\r\n",
        "    features_flatten = features.reshape((features.shape[0], 7 * 7 * 512))\r\n",
        "    return x, features, features_flatten"
      ],
      "execution_count": 26,
      "outputs": []
    },
    {
      "cell_type": "code",
      "metadata": {
        "id": "B2OPRIdotYrN"
      },
      "source": [
        "image_stack, features, features_flatten = create_features(data.files, model)"
      ],
      "execution_count": 27,
      "outputs": []
    },
    {
      "cell_type": "code",
      "metadata": {
        "id": "HNiQCuCq6feI"
      },
      "source": [
        "##Creating Dataframe out of extracted features and adding target column\n",
        "\n",
        "Pd_mat=pd.DataFrame(features_flatten)\n",
        "Pd_mat[\"target\"]=data[\"labels\"]"
      ],
      "execution_count": 28,
      "outputs": []
    },
    {
      "cell_type": "code",
      "metadata": {
        "id": "CBFKSPKWEvXR",
        "colab": {
          "base_uri": "https://localhost:8080/",
          "height": 251
        },
        "outputId": "14672122-06ae-4a80-dd1e-97e7e3b74570"
      },
      "source": [
        "Pd_mat.head()"
      ],
      "execution_count": 29,
      "outputs": [
        {
          "output_type": "execute_result",
          "data": {
            "text/html": [
              "<div>\n",
              "<style scoped>\n",
              "    .dataframe tbody tr th:only-of-type {\n",
              "        vertical-align: middle;\n",
              "    }\n",
              "\n",
              "    .dataframe tbody tr th {\n",
              "        vertical-align: top;\n",
              "    }\n",
              "\n",
              "    .dataframe thead th {\n",
              "        text-align: right;\n",
              "    }\n",
              "</style>\n",
              "<table border=\"1\" class=\"dataframe\">\n",
              "  <thead>\n",
              "    <tr style=\"text-align: right;\">\n",
              "      <th></th>\n",
              "      <th>0</th>\n",
              "      <th>1</th>\n",
              "      <th>2</th>\n",
              "      <th>3</th>\n",
              "      <th>4</th>\n",
              "      <th>5</th>\n",
              "      <th>6</th>\n",
              "      <th>7</th>\n",
              "      <th>8</th>\n",
              "      <th>9</th>\n",
              "      <th>10</th>\n",
              "      <th>11</th>\n",
              "      <th>12</th>\n",
              "      <th>13</th>\n",
              "      <th>14</th>\n",
              "      <th>15</th>\n",
              "      <th>16</th>\n",
              "      <th>17</th>\n",
              "      <th>18</th>\n",
              "      <th>19</th>\n",
              "      <th>20</th>\n",
              "      <th>21</th>\n",
              "      <th>22</th>\n",
              "      <th>23</th>\n",
              "      <th>24</th>\n",
              "      <th>25</th>\n",
              "      <th>26</th>\n",
              "      <th>27</th>\n",
              "      <th>28</th>\n",
              "      <th>29</th>\n",
              "      <th>30</th>\n",
              "      <th>31</th>\n",
              "      <th>32</th>\n",
              "      <th>33</th>\n",
              "      <th>34</th>\n",
              "      <th>35</th>\n",
              "      <th>36</th>\n",
              "      <th>37</th>\n",
              "      <th>38</th>\n",
              "      <th>39</th>\n",
              "      <th>...</th>\n",
              "      <th>25049</th>\n",
              "      <th>25050</th>\n",
              "      <th>25051</th>\n",
              "      <th>25052</th>\n",
              "      <th>25053</th>\n",
              "      <th>25054</th>\n",
              "      <th>25055</th>\n",
              "      <th>25056</th>\n",
              "      <th>25057</th>\n",
              "      <th>25058</th>\n",
              "      <th>25059</th>\n",
              "      <th>25060</th>\n",
              "      <th>25061</th>\n",
              "      <th>25062</th>\n",
              "      <th>25063</th>\n",
              "      <th>25064</th>\n",
              "      <th>25065</th>\n",
              "      <th>25066</th>\n",
              "      <th>25067</th>\n",
              "      <th>25068</th>\n",
              "      <th>25069</th>\n",
              "      <th>25070</th>\n",
              "      <th>25071</th>\n",
              "      <th>25072</th>\n",
              "      <th>25073</th>\n",
              "      <th>25074</th>\n",
              "      <th>25075</th>\n",
              "      <th>25076</th>\n",
              "      <th>25077</th>\n",
              "      <th>25078</th>\n",
              "      <th>25079</th>\n",
              "      <th>25080</th>\n",
              "      <th>25081</th>\n",
              "      <th>25082</th>\n",
              "      <th>25083</th>\n",
              "      <th>25084</th>\n",
              "      <th>25085</th>\n",
              "      <th>25086</th>\n",
              "      <th>25087</th>\n",
              "      <th>target</th>\n",
              "    </tr>\n",
              "  </thead>\n",
              "  <tbody>\n",
              "    <tr>\n",
              "      <th>0</th>\n",
              "      <td>0.0</td>\n",
              "      <td>0.0</td>\n",
              "      <td>0.0</td>\n",
              "      <td>0.0</td>\n",
              "      <td>0.0</td>\n",
              "      <td>0.0</td>\n",
              "      <td>0.0</td>\n",
              "      <td>0.0</td>\n",
              "      <td>0.0</td>\n",
              "      <td>0.0</td>\n",
              "      <td>0.0</td>\n",
              "      <td>0.0</td>\n",
              "      <td>0.0</td>\n",
              "      <td>0.0</td>\n",
              "      <td>0.0</td>\n",
              "      <td>0.0</td>\n",
              "      <td>0.0</td>\n",
              "      <td>0.0</td>\n",
              "      <td>0.0</td>\n",
              "      <td>84.166328</td>\n",
              "      <td>0.0</td>\n",
              "      <td>0.0</td>\n",
              "      <td>0.0</td>\n",
              "      <td>0.0</td>\n",
              "      <td>10.278426</td>\n",
              "      <td>10.720902</td>\n",
              "      <td>0.0</td>\n",
              "      <td>0.0</td>\n",
              "      <td>0.000000</td>\n",
              "      <td>0.0</td>\n",
              "      <td>0.0</td>\n",
              "      <td>0.0</td>\n",
              "      <td>0.0</td>\n",
              "      <td>0.0</td>\n",
              "      <td>0.0</td>\n",
              "      <td>0.0</td>\n",
              "      <td>0.0</td>\n",
              "      <td>0.0</td>\n",
              "      <td>0.0</td>\n",
              "      <td>0.0</td>\n",
              "      <td>...</td>\n",
              "      <td>0.0</td>\n",
              "      <td>0.0</td>\n",
              "      <td>0.0</td>\n",
              "      <td>0.0</td>\n",
              "      <td>0.0</td>\n",
              "      <td>0.0</td>\n",
              "      <td>0.0</td>\n",
              "      <td>0.0</td>\n",
              "      <td>0.0</td>\n",
              "      <td>0.0</td>\n",
              "      <td>0.0</td>\n",
              "      <td>0.0</td>\n",
              "      <td>0.0</td>\n",
              "      <td>10.211304</td>\n",
              "      <td>0.0</td>\n",
              "      <td>0.0</td>\n",
              "      <td>0.0</td>\n",
              "      <td>0.0</td>\n",
              "      <td>0.0</td>\n",
              "      <td>0.0</td>\n",
              "      <td>0.0</td>\n",
              "      <td>0.0</td>\n",
              "      <td>0.0</td>\n",
              "      <td>0.0</td>\n",
              "      <td>0.0</td>\n",
              "      <td>110.731293</td>\n",
              "      <td>0.0</td>\n",
              "      <td>0.0</td>\n",
              "      <td>0.0</td>\n",
              "      <td>0.0</td>\n",
              "      <td>0.0</td>\n",
              "      <td>0.0</td>\n",
              "      <td>0.0</td>\n",
              "      <td>0.0</td>\n",
              "      <td>0.0</td>\n",
              "      <td>0.0</td>\n",
              "      <td>0.0</td>\n",
              "      <td>0.0</td>\n",
              "      <td>0.0</td>\n",
              "      <td>3</td>\n",
              "    </tr>\n",
              "    <tr>\n",
              "      <th>1</th>\n",
              "      <td>0.0</td>\n",
              "      <td>0.0</td>\n",
              "      <td>0.0</td>\n",
              "      <td>0.0</td>\n",
              "      <td>0.0</td>\n",
              "      <td>0.0</td>\n",
              "      <td>0.0</td>\n",
              "      <td>0.0</td>\n",
              "      <td>0.0</td>\n",
              "      <td>0.0</td>\n",
              "      <td>0.0</td>\n",
              "      <td>0.0</td>\n",
              "      <td>0.0</td>\n",
              "      <td>0.0</td>\n",
              "      <td>0.0</td>\n",
              "      <td>0.0</td>\n",
              "      <td>0.0</td>\n",
              "      <td>0.0</td>\n",
              "      <td>0.0</td>\n",
              "      <td>0.000000</td>\n",
              "      <td>0.0</td>\n",
              "      <td>0.0</td>\n",
              "      <td>0.0</td>\n",
              "      <td>0.0</td>\n",
              "      <td>0.000000</td>\n",
              "      <td>0.000000</td>\n",
              "      <td>0.0</td>\n",
              "      <td>0.0</td>\n",
              "      <td>4.168221</td>\n",
              "      <td>0.0</td>\n",
              "      <td>0.0</td>\n",
              "      <td>0.0</td>\n",
              "      <td>0.0</td>\n",
              "      <td>0.0</td>\n",
              "      <td>0.0</td>\n",
              "      <td>0.0</td>\n",
              "      <td>0.0</td>\n",
              "      <td>0.0</td>\n",
              "      <td>0.0</td>\n",
              "      <td>0.0</td>\n",
              "      <td>...</td>\n",
              "      <td>0.0</td>\n",
              "      <td>0.0</td>\n",
              "      <td>0.0</td>\n",
              "      <td>0.0</td>\n",
              "      <td>0.0</td>\n",
              "      <td>0.0</td>\n",
              "      <td>0.0</td>\n",
              "      <td>0.0</td>\n",
              "      <td>0.0</td>\n",
              "      <td>0.0</td>\n",
              "      <td>0.0</td>\n",
              "      <td>0.0</td>\n",
              "      <td>0.0</td>\n",
              "      <td>30.251764</td>\n",
              "      <td>0.0</td>\n",
              "      <td>0.0</td>\n",
              "      <td>0.0</td>\n",
              "      <td>0.0</td>\n",
              "      <td>0.0</td>\n",
              "      <td>0.0</td>\n",
              "      <td>0.0</td>\n",
              "      <td>0.0</td>\n",
              "      <td>0.0</td>\n",
              "      <td>0.0</td>\n",
              "      <td>0.0</td>\n",
              "      <td>0.000000</td>\n",
              "      <td>0.0</td>\n",
              "      <td>0.0</td>\n",
              "      <td>0.0</td>\n",
              "      <td>0.0</td>\n",
              "      <td>0.0</td>\n",
              "      <td>0.0</td>\n",
              "      <td>0.0</td>\n",
              "      <td>0.0</td>\n",
              "      <td>0.0</td>\n",
              "      <td>0.0</td>\n",
              "      <td>0.0</td>\n",
              "      <td>0.0</td>\n",
              "      <td>0.0</td>\n",
              "      <td>1</td>\n",
              "    </tr>\n",
              "    <tr>\n",
              "      <th>2</th>\n",
              "      <td>0.0</td>\n",
              "      <td>0.0</td>\n",
              "      <td>0.0</td>\n",
              "      <td>0.0</td>\n",
              "      <td>0.0</td>\n",
              "      <td>0.0</td>\n",
              "      <td>0.0</td>\n",
              "      <td>0.0</td>\n",
              "      <td>0.0</td>\n",
              "      <td>0.0</td>\n",
              "      <td>0.0</td>\n",
              "      <td>0.0</td>\n",
              "      <td>0.0</td>\n",
              "      <td>0.0</td>\n",
              "      <td>0.0</td>\n",
              "      <td>0.0</td>\n",
              "      <td>0.0</td>\n",
              "      <td>0.0</td>\n",
              "      <td>0.0</td>\n",
              "      <td>0.000000</td>\n",
              "      <td>0.0</td>\n",
              "      <td>0.0</td>\n",
              "      <td>0.0</td>\n",
              "      <td>0.0</td>\n",
              "      <td>0.000000</td>\n",
              "      <td>0.000000</td>\n",
              "      <td>0.0</td>\n",
              "      <td>0.0</td>\n",
              "      <td>2.880384</td>\n",
              "      <td>0.0</td>\n",
              "      <td>0.0</td>\n",
              "      <td>0.0</td>\n",
              "      <td>0.0</td>\n",
              "      <td>0.0</td>\n",
              "      <td>0.0</td>\n",
              "      <td>0.0</td>\n",
              "      <td>0.0</td>\n",
              "      <td>0.0</td>\n",
              "      <td>0.0</td>\n",
              "      <td>0.0</td>\n",
              "      <td>...</td>\n",
              "      <td>0.0</td>\n",
              "      <td>0.0</td>\n",
              "      <td>0.0</td>\n",
              "      <td>0.0</td>\n",
              "      <td>0.0</td>\n",
              "      <td>0.0</td>\n",
              "      <td>0.0</td>\n",
              "      <td>0.0</td>\n",
              "      <td>0.0</td>\n",
              "      <td>0.0</td>\n",
              "      <td>0.0</td>\n",
              "      <td>0.0</td>\n",
              "      <td>0.0</td>\n",
              "      <td>25.609797</td>\n",
              "      <td>0.0</td>\n",
              "      <td>0.0</td>\n",
              "      <td>0.0</td>\n",
              "      <td>0.0</td>\n",
              "      <td>0.0</td>\n",
              "      <td>0.0</td>\n",
              "      <td>0.0</td>\n",
              "      <td>0.0</td>\n",
              "      <td>0.0</td>\n",
              "      <td>0.0</td>\n",
              "      <td>0.0</td>\n",
              "      <td>0.000000</td>\n",
              "      <td>0.0</td>\n",
              "      <td>0.0</td>\n",
              "      <td>0.0</td>\n",
              "      <td>0.0</td>\n",
              "      <td>0.0</td>\n",
              "      <td>0.0</td>\n",
              "      <td>0.0</td>\n",
              "      <td>0.0</td>\n",
              "      <td>0.0</td>\n",
              "      <td>0.0</td>\n",
              "      <td>0.0</td>\n",
              "      <td>0.0</td>\n",
              "      <td>0.0</td>\n",
              "      <td>1</td>\n",
              "    </tr>\n",
              "    <tr>\n",
              "      <th>3</th>\n",
              "      <td>0.0</td>\n",
              "      <td>0.0</td>\n",
              "      <td>0.0</td>\n",
              "      <td>0.0</td>\n",
              "      <td>0.0</td>\n",
              "      <td>0.0</td>\n",
              "      <td>0.0</td>\n",
              "      <td>0.0</td>\n",
              "      <td>0.0</td>\n",
              "      <td>0.0</td>\n",
              "      <td>0.0</td>\n",
              "      <td>0.0</td>\n",
              "      <td>0.0</td>\n",
              "      <td>0.0</td>\n",
              "      <td>0.0</td>\n",
              "      <td>0.0</td>\n",
              "      <td>0.0</td>\n",
              "      <td>0.0</td>\n",
              "      <td>0.0</td>\n",
              "      <td>0.000000</td>\n",
              "      <td>0.0</td>\n",
              "      <td>0.0</td>\n",
              "      <td>0.0</td>\n",
              "      <td>0.0</td>\n",
              "      <td>0.000000</td>\n",
              "      <td>0.000000</td>\n",
              "      <td>0.0</td>\n",
              "      <td>0.0</td>\n",
              "      <td>2.770075</td>\n",
              "      <td>0.0</td>\n",
              "      <td>0.0</td>\n",
              "      <td>0.0</td>\n",
              "      <td>0.0</td>\n",
              "      <td>0.0</td>\n",
              "      <td>0.0</td>\n",
              "      <td>0.0</td>\n",
              "      <td>0.0</td>\n",
              "      <td>0.0</td>\n",
              "      <td>0.0</td>\n",
              "      <td>0.0</td>\n",
              "      <td>...</td>\n",
              "      <td>0.0</td>\n",
              "      <td>0.0</td>\n",
              "      <td>0.0</td>\n",
              "      <td>0.0</td>\n",
              "      <td>0.0</td>\n",
              "      <td>0.0</td>\n",
              "      <td>0.0</td>\n",
              "      <td>0.0</td>\n",
              "      <td>0.0</td>\n",
              "      <td>0.0</td>\n",
              "      <td>0.0</td>\n",
              "      <td>0.0</td>\n",
              "      <td>0.0</td>\n",
              "      <td>25.523699</td>\n",
              "      <td>0.0</td>\n",
              "      <td>0.0</td>\n",
              "      <td>0.0</td>\n",
              "      <td>0.0</td>\n",
              "      <td>0.0</td>\n",
              "      <td>0.0</td>\n",
              "      <td>0.0</td>\n",
              "      <td>0.0</td>\n",
              "      <td>0.0</td>\n",
              "      <td>0.0</td>\n",
              "      <td>0.0</td>\n",
              "      <td>0.000000</td>\n",
              "      <td>0.0</td>\n",
              "      <td>0.0</td>\n",
              "      <td>0.0</td>\n",
              "      <td>0.0</td>\n",
              "      <td>0.0</td>\n",
              "      <td>0.0</td>\n",
              "      <td>0.0</td>\n",
              "      <td>0.0</td>\n",
              "      <td>0.0</td>\n",
              "      <td>0.0</td>\n",
              "      <td>0.0</td>\n",
              "      <td>0.0</td>\n",
              "      <td>0.0</td>\n",
              "      <td>2</td>\n",
              "    </tr>\n",
              "    <tr>\n",
              "      <th>4</th>\n",
              "      <td>0.0</td>\n",
              "      <td>0.0</td>\n",
              "      <td>0.0</td>\n",
              "      <td>0.0</td>\n",
              "      <td>0.0</td>\n",
              "      <td>0.0</td>\n",
              "      <td>0.0</td>\n",
              "      <td>0.0</td>\n",
              "      <td>0.0</td>\n",
              "      <td>0.0</td>\n",
              "      <td>0.0</td>\n",
              "      <td>0.0</td>\n",
              "      <td>0.0</td>\n",
              "      <td>0.0</td>\n",
              "      <td>0.0</td>\n",
              "      <td>0.0</td>\n",
              "      <td>0.0</td>\n",
              "      <td>0.0</td>\n",
              "      <td>0.0</td>\n",
              "      <td>0.000000</td>\n",
              "      <td>0.0</td>\n",
              "      <td>0.0</td>\n",
              "      <td>0.0</td>\n",
              "      <td>0.0</td>\n",
              "      <td>0.000000</td>\n",
              "      <td>0.000000</td>\n",
              "      <td>0.0</td>\n",
              "      <td>0.0</td>\n",
              "      <td>2.488235</td>\n",
              "      <td>0.0</td>\n",
              "      <td>0.0</td>\n",
              "      <td>0.0</td>\n",
              "      <td>0.0</td>\n",
              "      <td>0.0</td>\n",
              "      <td>0.0</td>\n",
              "      <td>0.0</td>\n",
              "      <td>0.0</td>\n",
              "      <td>0.0</td>\n",
              "      <td>0.0</td>\n",
              "      <td>0.0</td>\n",
              "      <td>...</td>\n",
              "      <td>0.0</td>\n",
              "      <td>0.0</td>\n",
              "      <td>0.0</td>\n",
              "      <td>0.0</td>\n",
              "      <td>0.0</td>\n",
              "      <td>0.0</td>\n",
              "      <td>0.0</td>\n",
              "      <td>0.0</td>\n",
              "      <td>0.0</td>\n",
              "      <td>0.0</td>\n",
              "      <td>0.0</td>\n",
              "      <td>0.0</td>\n",
              "      <td>0.0</td>\n",
              "      <td>23.513241</td>\n",
              "      <td>0.0</td>\n",
              "      <td>0.0</td>\n",
              "      <td>0.0</td>\n",
              "      <td>0.0</td>\n",
              "      <td>0.0</td>\n",
              "      <td>0.0</td>\n",
              "      <td>0.0</td>\n",
              "      <td>0.0</td>\n",
              "      <td>0.0</td>\n",
              "      <td>0.0</td>\n",
              "      <td>0.0</td>\n",
              "      <td>0.000000</td>\n",
              "      <td>0.0</td>\n",
              "      <td>0.0</td>\n",
              "      <td>0.0</td>\n",
              "      <td>0.0</td>\n",
              "      <td>0.0</td>\n",
              "      <td>0.0</td>\n",
              "      <td>0.0</td>\n",
              "      <td>0.0</td>\n",
              "      <td>0.0</td>\n",
              "      <td>0.0</td>\n",
              "      <td>0.0</td>\n",
              "      <td>0.0</td>\n",
              "      <td>0.0</td>\n",
              "      <td>0</td>\n",
              "    </tr>\n",
              "  </tbody>\n",
              "</table>\n",
              "<p>5 rows × 25089 columns</p>\n",
              "</div>"
            ],
            "text/plain": [
              "     0    1    2    3    4    5  ...  25083  25084  25085  25086  25087  target\n",
              "0  0.0  0.0  0.0  0.0  0.0  0.0  ...    0.0    0.0    0.0    0.0    0.0       3\n",
              "1  0.0  0.0  0.0  0.0  0.0  0.0  ...    0.0    0.0    0.0    0.0    0.0       1\n",
              "2  0.0  0.0  0.0  0.0  0.0  0.0  ...    0.0    0.0    0.0    0.0    0.0       1\n",
              "3  0.0  0.0  0.0  0.0  0.0  0.0  ...    0.0    0.0    0.0    0.0    0.0       2\n",
              "4  0.0  0.0  0.0  0.0  0.0  0.0  ...    0.0    0.0    0.0    0.0    0.0       0\n",
              "\n",
              "[5 rows x 25089 columns]"
            ]
          },
          "metadata": {
            "tags": []
          },
          "execution_count": 29
        }
      ]
    },
    {
      "cell_type": "markdown",
      "metadata": {
        "id": "6WqkZKyFFt8S"
      },
      "source": [
        "#***Applying Logistics Regression***"
      ]
    },
    {
      "cell_type": "code",
      "metadata": {
        "id": "xagj4F-sFtS7"
      },
      "source": [
        "##creating X and y variables\r\n",
        "\r\n",
        "y=Pd_mat.target\r\n",
        "X=Pd_mat.drop(columns=\"target\")"
      ],
      "execution_count": 72,
      "outputs": []
    },
    {
      "cell_type": "code",
      "metadata": {
        "id": "my8uQHfcMP8e",
        "colab": {
          "base_uri": "https://localhost:8080/"
        },
        "outputId": "8e4545d6-afcd-4aa6-b384-22b86cecadf0"
      },
      "source": [
        "##splitting into training and test sets\r\n",
        "\r\n",
        "X_train, X_test, y_train, y_test = train_test_split(X, y, test_size=0.2)\r\n",
        "print (X_train.shape, y_train.shape)\r\n",
        "print (X_test.shape, y_test.shape)"
      ],
      "execution_count": 31,
      "outputs": [
        {
          "output_type": "stream",
          "text": [
            "(4800, 25088) (4800,)\n",
            "(1200, 25088) (1200,)\n"
          ],
          "name": "stdout"
        }
      ]
    },
    {
      "cell_type": "code",
      "metadata": {
        "id": "bQFTzUhEU9JX",
        "outputId": "6db0e497-49b7-45c3-e7ed-45aa5d2e078e",
        "colab": {
          "base_uri": "https://localhost:8080/"
        }
      },
      "source": [
        "!pip install hypopt"
      ],
      "execution_count": 32,
      "outputs": [
        {
          "output_type": "stream",
          "text": [
            "Collecting hypopt\n",
            "  Downloading https://files.pythonhosted.org/packages/6e/8b/17f9022d94066ec29ab0008ed1ad247615153e5c633c2787255cfe2e95b8/hypopt-1.0.9-py2.py3-none-any.whl\n",
            "Requirement already satisfied: numpy>=1.11.3 in /usr/local/lib/python3.6/dist-packages (from hypopt) (1.18.5)\n",
            "Requirement already satisfied: scikit-learn>=0.18 in /usr/local/lib/python3.6/dist-packages (from hypopt) (0.22.2.post1)\n",
            "Requirement already satisfied: scipy>=0.17.0 in /usr/local/lib/python3.6/dist-packages (from scikit-learn>=0.18->hypopt) (1.4.1)\n",
            "Requirement already satisfied: joblib>=0.11 in /usr/local/lib/python3.6/dist-packages (from scikit-learn>=0.18->hypopt) (0.17.0)\n",
            "Installing collected packages: hypopt\n",
            "Successfully installed hypopt-1.0.9\n"
          ],
          "name": "stdout"
        }
      ]
    },
    {
      "cell_type": "code",
      "metadata": {
        "id": "sSLz5srzUJ2K",
        "colab": {
          "base_uri": "https://localhost:8080/"
        },
        "outputId": "d62d8a31-8e01-46a5-ead6-ae7b6d6f98c9"
      },
      "source": [
        "from sklearn.model_selection import GridSearchCV\r\n",
        "from hypopt import GridSearch\r\n",
        "param_grid = [{'C': [0.1,1,10],'solver': ['newton-cg','lbfgs']}]\r\n",
        " \r\n",
        "# Grid-search all parameter combinations using a validation set.\r\n",
        "opt = GridSearch(model = LogisticRegression(class_weight='balanced', multi_class=\"auto\",\r\n",
        "                        max_iter=200, random_state=1),param_grid = param_grid)\r\n",
        " \r\n",
        "opt.fit(X_train, y_train)\r\n",
        "print(opt.get_best_params())\r\n"
      ],
      "execution_count": 33,
      "outputs": [
        {
          "output_type": "stream",
          "text": [
            "/usr/local/lib/python3.6/dist-packages/joblib/externals/loky/process_executor.py:691: UserWarning: A worker stopped while some jobs were given to the executor. This can be caused by a too short worker timeout or by a memory leak.\n",
            "  \"timeout or by a memory leak.\", UserWarning\n"
          ],
          "name": "stderr"
        },
        {
          "output_type": "stream",
          "text": [
            "{'C': 1, 'solver': 'newton-cg'}\n"
          ],
          "name": "stdout"
        },
        {
          "output_type": "stream",
          "text": [
            "/usr/local/lib/python3.6/dist-packages/scipy/optimize/linesearch.py:314: LineSearchWarning: The line search algorithm did not converge\n",
            "  warn('The line search algorithm did not converge', LineSearchWarning)\n",
            "/usr/local/lib/python3.6/dist-packages/sklearn/utils/optimize.py:204: UserWarning: Line Search failed\n",
            "  warnings.warn('Line Search failed')\n"
          ],
          "name": "stderr"
        }
      ]
    },
    {
      "cell_type": "code",
      "metadata": {
        "id": "DfkqR828Reuy",
        "colab": {
          "base_uri": "https://localhost:8080/"
        },
        "outputId": "0b5fb75f-ff54-4ae7-8a2e-373255593337"
      },
      "source": [
        "preds=opt.predict(X_test)\r\n",
        "print(\"\\nAccuracy on Test Data: \", accuracy_score(y_test, preds))"
      ],
      "execution_count": 34,
      "outputs": [
        {
          "output_type": "stream",
          "text": [
            "\n",
            "Accuracy on Test Data:  0.9791666666666666\n"
          ],
          "name": "stdout"
        }
      ]
    },
    {
      "cell_type": "markdown",
      "metadata": {
        "id": "MyXg25DNZ1K_"
      },
      "source": [
        "#***Another way of creating a predictor matrix***"
      ]
    },
    {
      "cell_type": "code",
      "metadata": {
        "id": "AYY1xRKb33yy"
      },
      "source": [
        "##reading,processing and saving the image data into image_array list\n",
        "j=0\n",
        "image_array=[None]*len(data.files)\n",
        "for i in data.files:\n",
        "    image=cv2.imread(i)\n",
        "    image=cv2.cvtColor(image,cv2.COLOR_BGR2GRAY)\n",
        "    image=cv2.resize(image,(100,100),cv2.INTER_LINEAR)\n",
        "    image=image.reshape(100*100)\n",
        "    image_array[j]=image\n",
        "    j+=1    "
      ],
      "execution_count": 35,
      "outputs": []
    },
    {
      "cell_type": "code",
      "metadata": {
        "id": "R2v_76hjAFWH",
        "colab": {
          "base_uri": "https://localhost:8080/",
          "height": 285
        },
        "outputId": "6db3ad63-283c-48df-84a8-91d8f32b6364"
      },
      "source": [
        "\n",
        "image_array=np.asarray(image_array)\n",
        "plt.imshow(image_array[0].reshape(100,100),cmap=\"gray\")\n"
      ],
      "execution_count": 49,
      "outputs": [
        {
          "output_type": "execute_result",
          "data": {
            "text/plain": [
              "<matplotlib.image.AxesImage at 0x7faea4fb0668>"
            ]
          },
          "metadata": {
            "tags": []
          },
          "execution_count": 49
        },
        {
          "output_type": "display_data",
          "data": {
            "image/png": "[encoded data removed]",
            "text/plain": [
              "<Figure size 432x288 with 1 Axes>"
            ]
          },
          "metadata": {
            "tags": [],
            "needs_background": "light"
          }
        }
      ]
    },
    {
      "cell_type": "code",
      "metadata": {
        "id": "lIskTQjuA1k3"
      },
      "source": [
        "##creating dataframe from image array containing 10000 features\r\n",
        "Pd_mat2=pd.DataFrame(image_array)"
      ],
      "execution_count": 39,
      "outputs": []
    },
    {
      "cell_type": "code",
      "metadata": {
        "id": "3eXsaC-Xaj1A",
        "outputId": "8c67571e-ef55-4b4c-9185-4b71213335a4",
        "colab": {
          "base_uri": "https://localhost:8080/"
        }
      },
      "source": [
        "Pd_mat2.shape"
      ],
      "execution_count": 40,
      "outputs": [
        {
          "output_type": "execute_result",
          "data": {
            "text/plain": [
              "(6000, 10000)"
            ]
          },
          "metadata": {
            "tags": []
          },
          "execution_count": 40
        }
      ]
    },
    {
      "cell_type": "code",
      "metadata": {
        "id": "ZCekp9Z2b2OH"
      },
      "source": [
        "##displaying sample image to confirm the order of arrangement of elements\r\n",
        "##first element should be same as that of first image in train so as to match the right label\r\n",
        "def show_imgs(X):\r\n",
        "    plt.figure(figsize=(8, 8))\r\n",
        "    k = 0\r\n",
        "    for i in range(0,4):\r\n",
        "        for j in range(0,4):\r\n",
        "            plt.subplot2grid((4,4),(i,j))\r\n",
        "            plt.imshow(X[k].reshape(100,100),cmap=\"gray\")\r\n",
        "            k = k+1\r\n",
        "    plt.show()"
      ],
      "execution_count": 61,
      "outputs": []
    },
    {
      "cell_type": "code",
      "metadata": {
        "id": "YlRGyreJcLqJ",
        "outputId": "a553935b-0783-4f42-ff85-31c8a835ba5e",
        "colab": {
          "base_uri": "https://localhost:8080/",
          "height": 486
        }
      },
      "source": [
        "show_imgs(image_array)"
      ],
      "execution_count": 62,
      "outputs": [
        {
          "output_type": "display_data",
          "data": {
            "image/png": "[encoded data removed]",
            "text/plain": [
              "<Figure size 576x576 with 16 Axes>"
            ]
          },
          "metadata": {
            "tags": [],
            "needs_background": "light"
          }
        }
      ]
    },
    {
      "cell_type": "markdown",
      "metadata": {
        "id": "FVxRbP7Kenes"
      },
      "source": [
        "COMMENT:- This proves that both the dataframes are same"
      ]
    },
    {
      "cell_type": "code",
      "metadata": {
        "id": "YTiUCUCKbEIc"
      },
      "source": [
        "Pd_mat2[\"target\"]=labels"
      ],
      "execution_count": 64,
      "outputs": []
    },
    {
      "cell_type": "code",
      "metadata": {
        "id": "LIqh8XJna3W1"
      },
      "source": [
        "Pd_mat2.drop(columns=[\"label\"],inplace=True)"
      ],
      "execution_count": 68,
      "outputs": []
    },
    {
      "cell_type": "code",
      "metadata": {
        "id": "hSE9gN_wf7nQ",
        "outputId": "46a495c1-9c2e-4542-955c-594157a0e216",
        "colab": {
          "base_uri": "https://localhost:8080/",
          "height": 251
        }
      },
      "source": [
        "Pd_mat2.head()"
      ],
      "execution_count": 69,
      "outputs": [
        {
          "output_type": "execute_result",
          "data": {
            "text/html": [
              "<div>\n",
              "<style scoped>\n",
              "    .dataframe tbody tr th:only-of-type {\n",
              "        vertical-align: middle;\n",
              "    }\n",
              "\n",
              "    .dataframe tbody tr th {\n",
              "        vertical-align: top;\n",
              "    }\n",
              "\n",
              "    .dataframe thead th {\n",
              "        text-align: right;\n",
              "    }\n",
              "</style>\n",
              "<table border=\"1\" class=\"dataframe\">\n",
              "  <thead>\n",
              "    <tr style=\"text-align: right;\">\n",
              "      <th></th>\n",
              "      <th>0</th>\n",
              "      <th>1</th>\n",
              "      <th>2</th>\n",
              "      <th>3</th>\n",
              "      <th>4</th>\n",
              "      <th>5</th>\n",
              "      <th>6</th>\n",
              "      <th>7</th>\n",
              "      <th>8</th>\n",
              "      <th>9</th>\n",
              "      <th>10</th>\n",
              "      <th>11</th>\n",
              "      <th>12</th>\n",
              "      <th>13</th>\n",
              "      <th>14</th>\n",
              "      <th>15</th>\n",
              "      <th>16</th>\n",
              "      <th>17</th>\n",
              "      <th>18</th>\n",
              "      <th>19</th>\n",
              "      <th>20</th>\n",
              "      <th>21</th>\n",
              "      <th>22</th>\n",
              "      <th>23</th>\n",
              "      <th>24</th>\n",
              "      <th>25</th>\n",
              "      <th>26</th>\n",
              "      <th>27</th>\n",
              "      <th>28</th>\n",
              "      <th>29</th>\n",
              "      <th>30</th>\n",
              "      <th>31</th>\n",
              "      <th>32</th>\n",
              "      <th>33</th>\n",
              "      <th>34</th>\n",
              "      <th>35</th>\n",
              "      <th>36</th>\n",
              "      <th>37</th>\n",
              "      <th>38</th>\n",
              "      <th>39</th>\n",
              "      <th>...</th>\n",
              "      <th>9961</th>\n",
              "      <th>9962</th>\n",
              "      <th>9963</th>\n",
              "      <th>9964</th>\n",
              "      <th>9965</th>\n",
              "      <th>9966</th>\n",
              "      <th>9967</th>\n",
              "      <th>9968</th>\n",
              "      <th>9969</th>\n",
              "      <th>9970</th>\n",
              "      <th>9971</th>\n",
              "      <th>9972</th>\n",
              "      <th>9973</th>\n",
              "      <th>9974</th>\n",
              "      <th>9975</th>\n",
              "      <th>9976</th>\n",
              "      <th>9977</th>\n",
              "      <th>9978</th>\n",
              "      <th>9979</th>\n",
              "      <th>9980</th>\n",
              "      <th>9981</th>\n",
              "      <th>9982</th>\n",
              "      <th>9983</th>\n",
              "      <th>9984</th>\n",
              "      <th>9985</th>\n",
              "      <th>9986</th>\n",
              "      <th>9987</th>\n",
              "      <th>9988</th>\n",
              "      <th>9989</th>\n",
              "      <th>9990</th>\n",
              "      <th>9991</th>\n",
              "      <th>9992</th>\n",
              "      <th>9993</th>\n",
              "      <th>9994</th>\n",
              "      <th>9995</th>\n",
              "      <th>9996</th>\n",
              "      <th>9997</th>\n",
              "      <th>9998</th>\n",
              "      <th>9999</th>\n",
              "      <th>target</th>\n",
              "    </tr>\n",
              "  </thead>\n",
              "  <tbody>\n",
              "    <tr>\n",
              "      <th>0</th>\n",
              "      <td>143</td>\n",
              "      <td>137</td>\n",
              "      <td>141</td>\n",
              "      <td>140</td>\n",
              "      <td>137</td>\n",
              "      <td>139</td>\n",
              "      <td>142</td>\n",
              "      <td>139</td>\n",
              "      <td>143</td>\n",
              "      <td>148</td>\n",
              "      <td>151</td>\n",
              "      <td>159</td>\n",
              "      <td>159</td>\n",
              "      <td>163</td>\n",
              "      <td>167</td>\n",
              "      <td>167</td>\n",
              "      <td>166</td>\n",
              "      <td>171</td>\n",
              "      <td>169</td>\n",
              "      <td>165</td>\n",
              "      <td>167</td>\n",
              "      <td>173</td>\n",
              "      <td>192</td>\n",
              "      <td>228</td>\n",
              "      <td>228</td>\n",
              "      <td>228</td>\n",
              "      <td>228</td>\n",
              "      <td>228</td>\n",
              "      <td>229</td>\n",
              "      <td>229</td>\n",
              "      <td>229</td>\n",
              "      <td>229</td>\n",
              "      <td>229</td>\n",
              "      <td>230</td>\n",
              "      <td>230</td>\n",
              "      <td>230</td>\n",
              "      <td>230</td>\n",
              "      <td>230</td>\n",
              "      <td>231</td>\n",
              "      <td>230</td>\n",
              "      <td>...</td>\n",
              "      <td>232</td>\n",
              "      <td>231</td>\n",
              "      <td>231</td>\n",
              "      <td>231</td>\n",
              "      <td>232</td>\n",
              "      <td>232</td>\n",
              "      <td>232</td>\n",
              "      <td>232</td>\n",
              "      <td>232</td>\n",
              "      <td>232</td>\n",
              "      <td>233</td>\n",
              "      <td>234</td>\n",
              "      <td>235</td>\n",
              "      <td>236</td>\n",
              "      <td>236</td>\n",
              "      <td>238</td>\n",
              "      <td>238</td>\n",
              "      <td>238</td>\n",
              "      <td>238</td>\n",
              "      <td>238</td>\n",
              "      <td>237</td>\n",
              "      <td>237</td>\n",
              "      <td>236</td>\n",
              "      <td>236</td>\n",
              "      <td>236</td>\n",
              "      <td>235</td>\n",
              "      <td>235</td>\n",
              "      <td>236</td>\n",
              "      <td>237</td>\n",
              "      <td>239</td>\n",
              "      <td>239</td>\n",
              "      <td>238</td>\n",
              "      <td>239</td>\n",
              "      <td>237</td>\n",
              "      <td>237</td>\n",
              "      <td>237</td>\n",
              "      <td>238</td>\n",
              "      <td>239</td>\n",
              "      <td>239</td>\n",
              "      <td>3</td>\n",
              "    </tr>\n",
              "    <tr>\n",
              "      <th>1</th>\n",
              "      <td>255</td>\n",
              "      <td>255</td>\n",
              "      <td>255</td>\n",
              "      <td>255</td>\n",
              "      <td>255</td>\n",
              "      <td>255</td>\n",
              "      <td>255</td>\n",
              "      <td>255</td>\n",
              "      <td>255</td>\n",
              "      <td>255</td>\n",
              "      <td>255</td>\n",
              "      <td>255</td>\n",
              "      <td>255</td>\n",
              "      <td>255</td>\n",
              "      <td>255</td>\n",
              "      <td>255</td>\n",
              "      <td>255</td>\n",
              "      <td>255</td>\n",
              "      <td>255</td>\n",
              "      <td>255</td>\n",
              "      <td>255</td>\n",
              "      <td>255</td>\n",
              "      <td>255</td>\n",
              "      <td>255</td>\n",
              "      <td>255</td>\n",
              "      <td>255</td>\n",
              "      <td>255</td>\n",
              "      <td>255</td>\n",
              "      <td>255</td>\n",
              "      <td>255</td>\n",
              "      <td>255</td>\n",
              "      <td>255</td>\n",
              "      <td>255</td>\n",
              "      <td>254</td>\n",
              "      <td>253</td>\n",
              "      <td>252</td>\n",
              "      <td>243</td>\n",
              "      <td>236</td>\n",
              "      <td>220</td>\n",
              "      <td>199</td>\n",
              "      <td>...</td>\n",
              "      <td>255</td>\n",
              "      <td>255</td>\n",
              "      <td>255</td>\n",
              "      <td>254</td>\n",
              "      <td>255</td>\n",
              "      <td>255</td>\n",
              "      <td>255</td>\n",
              "      <td>255</td>\n",
              "      <td>255</td>\n",
              "      <td>255</td>\n",
              "      <td>255</td>\n",
              "      <td>255</td>\n",
              "      <td>255</td>\n",
              "      <td>255</td>\n",
              "      <td>255</td>\n",
              "      <td>255</td>\n",
              "      <td>255</td>\n",
              "      <td>255</td>\n",
              "      <td>255</td>\n",
              "      <td>255</td>\n",
              "      <td>255</td>\n",
              "      <td>255</td>\n",
              "      <td>255</td>\n",
              "      <td>255</td>\n",
              "      <td>255</td>\n",
              "      <td>255</td>\n",
              "      <td>255</td>\n",
              "      <td>255</td>\n",
              "      <td>255</td>\n",
              "      <td>255</td>\n",
              "      <td>255</td>\n",
              "      <td>255</td>\n",
              "      <td>255</td>\n",
              "      <td>255</td>\n",
              "      <td>255</td>\n",
              "      <td>255</td>\n",
              "      <td>255</td>\n",
              "      <td>255</td>\n",
              "      <td>255</td>\n",
              "      <td>1</td>\n",
              "    </tr>\n",
              "    <tr>\n",
              "      <th>2</th>\n",
              "      <td>242</td>\n",
              "      <td>242</td>\n",
              "      <td>242</td>\n",
              "      <td>242</td>\n",
              "      <td>242</td>\n",
              "      <td>242</td>\n",
              "      <td>242</td>\n",
              "      <td>242</td>\n",
              "      <td>242</td>\n",
              "      <td>242</td>\n",
              "      <td>242</td>\n",
              "      <td>242</td>\n",
              "      <td>242</td>\n",
              "      <td>242</td>\n",
              "      <td>242</td>\n",
              "      <td>242</td>\n",
              "      <td>242</td>\n",
              "      <td>242</td>\n",
              "      <td>242</td>\n",
              "      <td>242</td>\n",
              "      <td>242</td>\n",
              "      <td>242</td>\n",
              "      <td>242</td>\n",
              "      <td>242</td>\n",
              "      <td>242</td>\n",
              "      <td>242</td>\n",
              "      <td>242</td>\n",
              "      <td>242</td>\n",
              "      <td>242</td>\n",
              "      <td>242</td>\n",
              "      <td>242</td>\n",
              "      <td>242</td>\n",
              "      <td>242</td>\n",
              "      <td>242</td>\n",
              "      <td>242</td>\n",
              "      <td>242</td>\n",
              "      <td>242</td>\n",
              "      <td>242</td>\n",
              "      <td>242</td>\n",
              "      <td>242</td>\n",
              "      <td>...</td>\n",
              "      <td>242</td>\n",
              "      <td>242</td>\n",
              "      <td>242</td>\n",
              "      <td>242</td>\n",
              "      <td>242</td>\n",
              "      <td>242</td>\n",
              "      <td>242</td>\n",
              "      <td>242</td>\n",
              "      <td>242</td>\n",
              "      <td>242</td>\n",
              "      <td>242</td>\n",
              "      <td>242</td>\n",
              "      <td>242</td>\n",
              "      <td>242</td>\n",
              "      <td>242</td>\n",
              "      <td>242</td>\n",
              "      <td>242</td>\n",
              "      <td>242</td>\n",
              "      <td>242</td>\n",
              "      <td>242</td>\n",
              "      <td>242</td>\n",
              "      <td>242</td>\n",
              "      <td>242</td>\n",
              "      <td>242</td>\n",
              "      <td>242</td>\n",
              "      <td>242</td>\n",
              "      <td>242</td>\n",
              "      <td>242</td>\n",
              "      <td>242</td>\n",
              "      <td>242</td>\n",
              "      <td>242</td>\n",
              "      <td>242</td>\n",
              "      <td>242</td>\n",
              "      <td>242</td>\n",
              "      <td>242</td>\n",
              "      <td>242</td>\n",
              "      <td>242</td>\n",
              "      <td>242</td>\n",
              "      <td>242</td>\n",
              "      <td>1</td>\n",
              "    </tr>\n",
              "    <tr>\n",
              "      <th>3</th>\n",
              "      <td>242</td>\n",
              "      <td>242</td>\n",
              "      <td>242</td>\n",
              "      <td>242</td>\n",
              "      <td>242</td>\n",
              "      <td>242</td>\n",
              "      <td>242</td>\n",
              "      <td>242</td>\n",
              "      <td>242</td>\n",
              "      <td>242</td>\n",
              "      <td>242</td>\n",
              "      <td>242</td>\n",
              "      <td>242</td>\n",
              "      <td>242</td>\n",
              "      <td>242</td>\n",
              "      <td>242</td>\n",
              "      <td>242</td>\n",
              "      <td>242</td>\n",
              "      <td>242</td>\n",
              "      <td>242</td>\n",
              "      <td>242</td>\n",
              "      <td>242</td>\n",
              "      <td>242</td>\n",
              "      <td>242</td>\n",
              "      <td>242</td>\n",
              "      <td>242</td>\n",
              "      <td>242</td>\n",
              "      <td>242</td>\n",
              "      <td>242</td>\n",
              "      <td>242</td>\n",
              "      <td>242</td>\n",
              "      <td>242</td>\n",
              "      <td>242</td>\n",
              "      <td>242</td>\n",
              "      <td>242</td>\n",
              "      <td>242</td>\n",
              "      <td>242</td>\n",
              "      <td>242</td>\n",
              "      <td>242</td>\n",
              "      <td>242</td>\n",
              "      <td>...</td>\n",
              "      <td>242</td>\n",
              "      <td>242</td>\n",
              "      <td>242</td>\n",
              "      <td>242</td>\n",
              "      <td>242</td>\n",
              "      <td>242</td>\n",
              "      <td>242</td>\n",
              "      <td>242</td>\n",
              "      <td>242</td>\n",
              "      <td>242</td>\n",
              "      <td>242</td>\n",
              "      <td>242</td>\n",
              "      <td>242</td>\n",
              "      <td>242</td>\n",
              "      <td>242</td>\n",
              "      <td>242</td>\n",
              "      <td>242</td>\n",
              "      <td>242</td>\n",
              "      <td>242</td>\n",
              "      <td>242</td>\n",
              "      <td>242</td>\n",
              "      <td>242</td>\n",
              "      <td>242</td>\n",
              "      <td>242</td>\n",
              "      <td>242</td>\n",
              "      <td>242</td>\n",
              "      <td>242</td>\n",
              "      <td>242</td>\n",
              "      <td>242</td>\n",
              "      <td>242</td>\n",
              "      <td>242</td>\n",
              "      <td>242</td>\n",
              "      <td>242</td>\n",
              "      <td>242</td>\n",
              "      <td>242</td>\n",
              "      <td>242</td>\n",
              "      <td>242</td>\n",
              "      <td>242</td>\n",
              "      <td>242</td>\n",
              "      <td>2</td>\n",
              "    </tr>\n",
              "    <tr>\n",
              "      <th>4</th>\n",
              "      <td>242</td>\n",
              "      <td>242</td>\n",
              "      <td>242</td>\n",
              "      <td>242</td>\n",
              "      <td>242</td>\n",
              "      <td>242</td>\n",
              "      <td>242</td>\n",
              "      <td>242</td>\n",
              "      <td>242</td>\n",
              "      <td>242</td>\n",
              "      <td>242</td>\n",
              "      <td>242</td>\n",
              "      <td>242</td>\n",
              "      <td>242</td>\n",
              "      <td>242</td>\n",
              "      <td>242</td>\n",
              "      <td>242</td>\n",
              "      <td>242</td>\n",
              "      <td>242</td>\n",
              "      <td>242</td>\n",
              "      <td>242</td>\n",
              "      <td>242</td>\n",
              "      <td>242</td>\n",
              "      <td>242</td>\n",
              "      <td>242</td>\n",
              "      <td>242</td>\n",
              "      <td>242</td>\n",
              "      <td>242</td>\n",
              "      <td>242</td>\n",
              "      <td>242</td>\n",
              "      <td>242</td>\n",
              "      <td>242</td>\n",
              "      <td>242</td>\n",
              "      <td>242</td>\n",
              "      <td>242</td>\n",
              "      <td>242</td>\n",
              "      <td>242</td>\n",
              "      <td>242</td>\n",
              "      <td>242</td>\n",
              "      <td>242</td>\n",
              "      <td>...</td>\n",
              "      <td>242</td>\n",
              "      <td>242</td>\n",
              "      <td>242</td>\n",
              "      <td>242</td>\n",
              "      <td>242</td>\n",
              "      <td>242</td>\n",
              "      <td>242</td>\n",
              "      <td>242</td>\n",
              "      <td>242</td>\n",
              "      <td>242</td>\n",
              "      <td>242</td>\n",
              "      <td>242</td>\n",
              "      <td>242</td>\n",
              "      <td>242</td>\n",
              "      <td>242</td>\n",
              "      <td>242</td>\n",
              "      <td>242</td>\n",
              "      <td>242</td>\n",
              "      <td>242</td>\n",
              "      <td>242</td>\n",
              "      <td>242</td>\n",
              "      <td>242</td>\n",
              "      <td>242</td>\n",
              "      <td>242</td>\n",
              "      <td>242</td>\n",
              "      <td>242</td>\n",
              "      <td>242</td>\n",
              "      <td>242</td>\n",
              "      <td>242</td>\n",
              "      <td>242</td>\n",
              "      <td>242</td>\n",
              "      <td>242</td>\n",
              "      <td>242</td>\n",
              "      <td>242</td>\n",
              "      <td>242</td>\n",
              "      <td>242</td>\n",
              "      <td>242</td>\n",
              "      <td>242</td>\n",
              "      <td>242</td>\n",
              "      <td>0</td>\n",
              "    </tr>\n",
              "  </tbody>\n",
              "</table>\n",
              "<p>5 rows × 10001 columns</p>\n",
              "</div>"
            ],
            "text/plain": [
              "     0    1    2    3    4    5  ...  9995  9996  9997  9998  9999  target\n",
              "0  143  137  141  140  137  139  ...   237   237   238   239   239       3\n",
              "1  255  255  255  255  255  255  ...   255   255   255   255   255       1\n",
              "2  242  242  242  242  242  242  ...   242   242   242   242   242       1\n",
              "3  242  242  242  242  242  242  ...   242   242   242   242   242       2\n",
              "4  242  242  242  242  242  242  ...   242   242   242   242   242       0\n",
              "\n",
              "[5 rows x 10001 columns]"
            ]
          },
          "metadata": {
            "tags": []
          },
          "execution_count": 69
        }
      ]
    },
    {
      "cell_type": "markdown",
      "metadata": {
        "id": "cW4EUc0ffbcb"
      },
      "source": [
        "#***Applying Logistics Regression on second matrix***"
      ]
    },
    {
      "cell_type": "code",
      "metadata": {
        "id": "RArC21i6fWPv"
      },
      "source": [
        "##creating X2 and y2 variables\r\n",
        "\r\n",
        "y2=Pd_mat2.target\r\n",
        "X2=Pd_mat2.drop(columns=\"target\")"
      ],
      "execution_count": 74,
      "outputs": []
    },
    {
      "cell_type": "code",
      "metadata": {
        "colab": {
          "base_uri": "https://localhost:8080/"
        },
        "id": "_hdxjbtVfWP-",
        "outputId": "678a1834-93be-4ec3-8187-169a84867fea"
      },
      "source": [
        "##splitting into training and test sets\r\n",
        "\r\n",
        "X2_train, X2_test, y2_train, y2_test = train_test_split(X2, y2, test_size=0.2)\r\n",
        "print (X2_train.shape, y2_train.shape)\r\n",
        "print (X2_test.shape, y2_test.shape)"
      ],
      "execution_count": 75,
      "outputs": [
        {
          "output_type": "stream",
          "text": [
            "(4800, 10000) (4800,)\n",
            "(1200, 10000) (1200,)\n"
          ],
          "name": "stdout"
        }
      ]
    },
    {
      "cell_type": "code",
      "metadata": {
        "id": "MV05w7FZfWQB"
      },
      "source": [
        "from sklearn.model_selection import GridSearchCV\r\n",
        "from hypopt import GridSearch\r\n",
        "param_grid = [{'C': [0.1,1,10],'solver': ['newton-cg','lbfgs']}]\r\n",
        " \r\n",
        "# Grid-search all parameter combinations using a validation set.\r\n",
        "opt2 = GridSearch(model = LogisticRegression(class_weight='balanced', multi_class=\"auto\",\r\n",
        "                        max_iter=200, random_state=1),param_grid = param_grid)\r\n",
        " \r\n",
        "opt2.fit(X2_train, y2_train)\r\n",
        "print(opt2.get_best_params())\r\n"
      ],
      "execution_count": null,
      "outputs": []
    },
    {
      "cell_type": "code",
      "metadata": {
        "colab": {
          "base_uri": "https://localhost:8080/"
        },
        "id": "q39fiBGpfWQC",
        "outputId": "0b5fb75f-ff54-4ae7-8a2e-373255593337"
      },
      "source": [
        "preds=opt2.predict(X2_test)\r\n",
        "print(\"\\nAccuracy on Test Data: \", accuracy_score(y2_test, preds))"
      ],
      "execution_count": null,
      "outputs": [
        {
          "output_type": "stream",
          "text": [
            "\n",
            "Accuracy on Test Data:  0.9791666666666666\n"
          ],
          "name": "stdout"
        }
      ]
    }
  ]
}