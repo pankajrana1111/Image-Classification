{
  "nbformat": 4,
  "nbformat_minor": 0,
  "metadata": {
    "colab": {
      "name": "Capstone Project.ipynb",
      "provenance": [],
      "collapsed_sections": [],
      "authorship_tag": "ABX9TyObiD/C1iplAX6fCC3xybEE",
      "include_colab_link": true
    },
    "kernelspec": {
      "name": "python3",
      "display_name": "Python 3"
    }
  },
  "cells": [
    {
      "cell_type": "markdown",
      "metadata": {
        "id": "view-in-github",
        "colab_type": "text"
      },
      "source": [
        "<a href=\"https://colab.research.google.com/github/pankajrana1111/Image-Classification/blob/pankajrana1111-patch-1/Capstone_Project.ipynb\" target=\"_parent\"><img src=\"https://colab.research.google.com/assets/colab-badge.svg\" alt=\"Open In Colab\"/></a>"
      ]
    },
    {
      "cell_type": "code",
      "metadata": {
        "id": "-rTUk66Sa91N"
      },
      "source": [
        "#getting repository from github\n",
        "!git clone https://github.com/pankajrana1111/Image-Classification.git"
      ],
      "execution_count": null,
      "outputs": []
    },
    {
      "cell_type": "code",
      "metadata": {
        "id": "K-shpXfw2ccS"
      },
      "source": [
        "#!pip install patool\n",
        "#import patoolib\n",
        "#patoolib.extract_archive(\"Image-Classification/fashion1.rar\", outdir=\"Image-Classification\")\n",
        "patoolib.extract_archive(\"Image-Classification/fashion2.rar\", outdir=\"Image-Classification\")\n",
        "patoolib.extract_archive(\"Image-Classification/fashion3.rar\", outdir=\"Image-Classification\")\n",
        "patoolib.extract_archive(\"Image-Classification/fashion4.rar\", outdir=\"Image-Classification\")\n",
        "patoolib.extract_archive(\"Image-Classification/fashion5.rar\", outdir=\"Image-Classification\")\n",
        "patoolib.extract_archive(\"Image-Classification/fashion6.rar\", outdir=\"Image-Classification\")"
      ],
      "execution_count": null,
      "outputs": []
    },
    {
      "cell_type": "code",
      "metadata": {
        "id": "lEP4ULC2K0qy"
      },
      "source": [
        "import os\n",
        "import numpy as np\n",
        "import pandas as pd\n",
        "import matplotlib.pyplot as plt"
      ],
      "execution_count": 1,
      "outputs": []
    },
    {
      "cell_type": "code",
      "metadata": {
        "id": "5w5cNiIr7Rl_"
      },
      "source": [
        "data=pd.read_csv(\"train.csv\")\n",
        "data.head()"
      ],
      "execution_count": null,
      "outputs": []
    },
    {
      "cell_type": "markdown",
      "metadata": {
        "id": "TyBhTrgG7Bi1"
      },
      "source": [
        "Now Here I see that the files coloumn contains the locations of the images and images coloum contains the name of the image files. Further the target coloum contains the category of the image."
      ]
    },
    {
      "cell_type": "markdown",
      "metadata": {
        "id": "XU4hx098-Zru"
      },
      "source": [
        "Expolatory Data Analysis"
      ]
    },
    {
      "cell_type": "code",
      "metadata": {
        "id": "xD5CBJ6G7fbO",
        "outputId": "b1bcc7b2-4f7d-41ac-84bd-8f6fa69516e5",
        "colab": {
          "base_uri": "https://localhost:8080/",
          "height": 35
        }
      },
      "source": [
        "data.shape"
      ],
      "execution_count": 3,
      "outputs": [
        {
          "output_type": "execute_result",
          "data": {
            "text/plain": [
              "(6000, 3)"
            ]
          },
          "metadata": {
            "tags": []
          },
          "execution_count": 3
        }
      ]
    },
    {
      "cell_type": "code",
      "metadata": {
        "id": "dpY3dALz-XPx",
        "outputId": "66d4baa7-c7a6-4cb4-9cb8-081ba344ca44",
        "colab": {
          "base_uri": "https://localhost:8080/",
          "height": 265
        }
      },
      "source": [
        "##plotting the no. of categories\n",
        "y_labels=data.target.unique()\n",
        "counts=[data.target.tolist().count(i) for i in x_labels]\n",
        "plt.barh(y_labels,counts)\n",
        "plt.show()"
      ],
      "execution_count": 39,
      "outputs": [
        {
          "output_type": "display_data",
          "data": {
            "image/png": "[encoded data removed]",
            "text/plain": [
              "<Figure size 432x288 with 1 Axes>"
            ]
          },
          "metadata": {
            "tags": [],
            "needs_background": "light"
          }
        }
      ]
    },
    {
      "cell_type": "markdown",
      "metadata": {
        "id": "ABFH-_1QTNmF"
      },
      "source": [
        "In the plot we observed that the no. of images in each category are alomost equal and hence we have a balanced dataset."
      ]
    },
    {
      "cell_type": "markdown",
      "metadata": {
        "id": "uGOXcFJLUYc0"
      },
      "source": [
        "Creating Predictor Matrix out of images"
      ]
    },
    {
      "cell_type": "code",
      "metadata": {
        "id": "6kdaE-NrOjhP"
      },
      "source": [
        "import cv2"
      ],
      "execution_count": 110,
      "outputs": []
    },
    {
      "cell_type": "code",
      "metadata": {
        "id": "PG-V-s_dAG1l",
        "outputId": "d7cfd9be-186e-435e-b92e-14781cef7b8e",
        "colab": {
          "base_uri": "https://localhost:8080/",
          "height": 166
        }
      },
      "source": [
        "## making a list of image pixels\n",
        "image_array1=[cv2.imread(i for i in [os.path.join(\"Image-Classification/fashion1\",img) for img in os.listdir(\"Image-Classification/fashion1\")]]\n",
        "image_array2=[cv2.imread(i for i in [os.path.join(\"Image-Classification/fashion2\",img) for img in os.listdir(\"Image-Classification/fashion2\")]]\n",
        "image_array3=[cv2.imread(i for i in [os.path.join(\"Image-Classification/fashion3\",img) for img in os.listdir(\"Image-Classification/fashion3\")]]\n",
        "image_array4=[cv2.imread(i for i in [os.path.join(\"Image-Classification/fashion4\",img) for img in os.listdir(\"Image-Classification/fashion4\")]]\n",
        "image_array5=[cv2.imread(i for i in [os.path.join(\"Image-Classification/fashion5\",img) for img in os.listdir(\"Image-Classification/fashion5\")]]\n",
        "image_array6=[cv2.imread(i for i in [os.path.join(\"Image-Classification/fashion6\",img) for img in os.listdir(\"Image-Classification/fashion6\")]]                                               "
      ],
      "execution_count": 111,
      "outputs": [
        {
          "output_type": "error",
          "ename": "SyntaxError",
          "evalue": "ignored",
          "traceback": [
            "\u001b[0;36m  File \u001b[0;32m\"<ipython-input-111-7124f2e4d645>\"\u001b[0;36m, line \u001b[0;32m2\u001b[0m\n\u001b[0;31m    image_array1=[cv2.imread(i for i in [os.path.join(\"Image-Classification/fashion1\",img) for img in os.listdir(\"Image-Classification/fashion1\")]]\u001b[0m\n\u001b[0m                                                                                                                                                  ^\u001b[0m\n\u001b[0;31mSyntaxError\u001b[0m\u001b[0;31m:\u001b[0m invalid syntax\n"
          ]
        }
      ]
    },
    {
      "cell_type": "code",
      "metadata": {
        "id": "mg4RgYPKKk1F"
      },
      "source": [
        "file=np.array(os.path.join(\"Image-Classification/fashion3\",img) for img in os.listdir(\"Image-Classification/fashion3\"))"
      ],
      "execution_count": 127,
      "outputs": []
    },
    {
      "cell_type": "code",
      "metadata": {
        "id": "swGevn4MMbFe",
        "outputId": "5afd28ba-3c3f-46e5-bcde-d3ba59268b4e",
        "colab": {
          "base_uri": "https://localhost:8080/",
          "height": 35
        }
      },
      "source": [
        "print(file)"
      ],
      "execution_count": 129,
      "outputs": [
        {
          "output_type": "stream",
          "text": [
            "<generator object <genexpr> at 0x7f65563e03b8>\n"
          ],
          "name": "stdout"
        }
      ]
    },
    {
      "cell_type": "code",
      "metadata": {
        "id": "VNQhZeDQINOx",
        "outputId": "ae473f46-db8e-460b-abd5-3cef1151599c",
        "colab": {
          "base_uri": "https://localhost:8080/",
          "height": 166
        }
      },
      "source": [
        "image_array1=np.array(cv2.imread(i for i in file))\n"
      ],
      "execution_count": 124,
      "outputs": [
        {
          "output_type": "error",
          "ename": "TypeError",
          "evalue": "ignored",
          "traceback": [
            "\u001b[0;31m---------------------------------------------------------------------------\u001b[0m",
            "\u001b[0;31mTypeError\u001b[0m                                 Traceback (most recent call last)",
            "\u001b[0;32m<ipython-input-124-8d53e9c182ee>\u001b[0m in \u001b[0;36m<module>\u001b[0;34m()\u001b[0m\n\u001b[0;32m----> 1\u001b[0;31m \u001b[0mimage_array1\u001b[0m\u001b[0;34m=\u001b[0m\u001b[0mnp\u001b[0m\u001b[0;34m.\u001b[0m\u001b[0marray\u001b[0m\u001b[0;34m(\u001b[0m\u001b[0mcv2\u001b[0m\u001b[0;34m.\u001b[0m\u001b[0mimread\u001b[0m\u001b[0;34m(\u001b[0m\u001b[0mi\u001b[0m \u001b[0;32mfor\u001b[0m \u001b[0mi\u001b[0m \u001b[0;32min\u001b[0m \u001b[0mfile\u001b[0m\u001b[0;34m)\u001b[0m\u001b[0;34m)\u001b[0m\u001b[0;34m\u001b[0m\u001b[0;34m\u001b[0m\u001b[0m\n\u001b[0m",
            "\u001b[0;31mTypeError\u001b[0m: iteration over a 0-d array"
          ]
        }
      ]
    },
    {
      "cell_type": "code",
      "metadata": {
        "id": "X4mnQAy2IsHN"
      },
      "source": [
        "file=[os.path.join(\"Image-Classification/fashion1\",img) for img in os.listdir(\"Image-Classification/fashion1\")]"
      ],
      "execution_count": 114,
      "outputs": []
    },
    {
      "cell_type": "code",
      "metadata": {
        "id": "Ts54oGCaGp2j"
      },
      "source": [
        "##joining all the list in one single list\n",
        "image_list=image_array1.extend(image_array1).extend(image_array2).\\\n",
        "extend(image_array3).extend(image_array4).extend(image_array5).extend(image_array5)"
      ],
      "execution_count": null,
      "outputs": []
    },
    {
      "cell_type": "code",
      "metadata": {
        "id": "D9DHsaSHEy6k"
      },
      "source": [
        ""
      ],
      "execution_count": null,
      "outputs": []
    }
  ]
}