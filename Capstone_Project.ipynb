{
  "nbformat": 4,
  "nbformat_minor": 0,
  "metadata": {
    "colab": {
      "name": "Copy of Capstone Project.ipynb",
      "provenance": [],
      "authorship_tag": "ABX9TyP86r5UXc1PzoUPfnJ5LfYA",
      "include_colab_link": true
    },
    "kernelspec": {
      "name": "python3",
      "display_name": "Python 3"
    }
  },
  "cells": [
    {
      "cell_type": "markdown",
      "metadata": {
        "id": "view-in-github",
        "colab_type": "text"
      },
      "source": [
        "<a href=\"https://colab.research.google.com/github/pankajrana1111/Image-Classification/blob/pankajrana1111-patch-1/Capstone_Project.ipynb\" target=\"_parent\"><img src=\"https://colab.research.google.com/assets/colab-badge.svg\" alt=\"Open In Colab\"/></a>"
      ]
    },
    {
      "cell_type": "code",
      "metadata": {
        "id": "lEP4ULC2K0qy"
      },
      "source": [
        "import os\n",
        "import numpy as np\n",
        "import pandas as pd\n",
        "import matplotlib.pyplot as plt"
      ],
      "execution_count": 2,
      "outputs": []
    },
    {
      "cell_type": "code",
      "metadata": {
        "id": "o6ZBTD7eLMAg"
      },
      "source": [
        "from sklearn.model_selection import GridSearchCV\n",
        "from sklearn.linear_model import LogisticRegression\n",
        "from sklearn.metrics import confusion_matrix, accuracy_score"
      ],
      "execution_count": 3,
      "outputs": []
    },
    {
      "cell_type": "code",
      "metadata": {
        "id": "5w5cNiIr7Rl_",
        "outputId": "959c1e0c-de61-4fb5-bab7-3380f3c329b5",
        "colab": {
          "base_uri": "https://localhost:8080/",
          "height": 195
        }
      },
      "source": [
        "data=pd.read_csv(\"train.csv\")\n",
        "data.head()"
      ],
      "execution_count": 4,
      "outputs": [
        {
          "output_type": "execute_result",
          "data": {
            "text/html": [
              "<div>\n",
              "<style scoped>\n",
              "    .dataframe tbody tr th:only-of-type {\n",
              "        vertical-align: middle;\n",
              "    }\n",
              "\n",
              "    .dataframe tbody tr th {\n",
              "        vertical-align: top;\n",
              "    }\n",
              "\n",
              "    .dataframe thead th {\n",
              "        text-align: right;\n",
              "    }\n",
              "</style>\n",
              "<table border=\"1\" class=\"dataframe\">\n",
              "  <thead>\n",
              "    <tr style=\"text-align: right;\">\n",
              "      <th></th>\n",
              "      <th>files</th>\n",
              "      <th>target</th>\n",
              "      <th>images</th>\n",
              "    </tr>\n",
              "  </thead>\n",
              "  <tbody>\n",
              "    <tr>\n",
              "      <th>0</th>\n",
              "      <td>../input/fashiondata/data/shoes/5da81ceb7861c2...</td>\n",
              "      <td>shoes</td>\n",
              "      <td>5da81ceb7861c2af6a5a89a7_1.jpg</td>\n",
              "    </tr>\n",
              "    <tr>\n",
              "      <th>1</th>\n",
              "      <td>../input/fashiondata/data/beauty/5da81d8a7861c...</td>\n",
              "      <td>beauty</td>\n",
              "      <td>5da81d8a7861c2af6a5a901c_3.jpg</td>\n",
              "    </tr>\n",
              "    <tr>\n",
              "      <th>2</th>\n",
              "      <td>../input/fashiondata/data/beauty/5da820f26504f...</td>\n",
              "      <td>beauty</td>\n",
              "      <td>5da820f26504fb65da0043e6_0.jpg</td>\n",
              "    </tr>\n",
              "    <tr>\n",
              "      <th>3</th>\n",
              "      <td>../input/fashiondata/data/jewelry and watches/...</td>\n",
              "      <td>jewelry and watches</td>\n",
              "      <td>5da81c026504fb65cea700d2_0.jpg</td>\n",
              "    </tr>\n",
              "    <tr>\n",
              "      <th>4</th>\n",
              "      <td>../input/fashiondata/data/bags/5da81d2c7861c2a...</td>\n",
              "      <td>bags</td>\n",
              "      <td>5da81d2c7861c2af6a5a8c64_2.jpg</td>\n",
              "    </tr>\n",
              "  </tbody>\n",
              "</table>\n",
              "</div>"
            ],
            "text/plain": [
              "                                               files  ...                          images\n",
              "0  ../input/fashiondata/data/shoes/5da81ceb7861c2...  ...  5da81ceb7861c2af6a5a89a7_1.jpg\n",
              "1  ../input/fashiondata/data/beauty/5da81d8a7861c...  ...  5da81d8a7861c2af6a5a901c_3.jpg\n",
              "2  ../input/fashiondata/data/beauty/5da820f26504f...  ...  5da820f26504fb65da0043e6_0.jpg\n",
              "3  ../input/fashiondata/data/jewelry and watches/...  ...  5da81c026504fb65cea700d2_0.jpg\n",
              "4  ../input/fashiondata/data/bags/5da81d2c7861c2a...  ...  5da81d2c7861c2af6a5a8c64_2.jpg\n",
              "\n",
              "[5 rows x 3 columns]"
            ]
          },
          "metadata": {
            "tags": []
          },
          "execution_count": 4
        }
      ]
    },
    {
      "cell_type": "code",
      "metadata": {
        "id": "ABCtB6K8447C",
        "outputId": "c19581c0-9d9b-4bb0-ca8b-a77a8bd9ce6e",
        "colab": {
          "base_uri": "https://localhost:8080/",
          "height": 295
        }
      },
      "source": [
        "y_pos=data.target.unique()\n",
        "counts=[data.target.tolist().count(i) for i in y_pos]\n",
        "plt.barh(y_pos, counts, align='center', alpha=0.5, height=0.3)\n",
        "plt.xlabel('Counts')\n",
        "plt.title('Train Data Class Distribution')\n",
        "plt.show()"
      ],
      "execution_count": 5,
      "outputs": [
        {
          "output_type": "display_data",
          "data": {
            "image/png": "[encoded data removed]",
            "text/plain": [
              "<Figure size 432x288 with 1 Axes>"
            ]
          },
          "metadata": {
            "tags": [],
            "needs_background": "light"
          }
        }
      ]
    },
    {
      "cell_type": "code",
      "metadata": {
        "id": "c_F1Posg7Uhi",
        "outputId": "937e811e-67d4-4f9e-d45a-96c50e55d8f6",
        "colab": {
          "base_uri": "https://localhost:8080/",
          "height": 195
        }
      },
      "source": [
        "data.head()"
      ],
      "execution_count": 6,
      "outputs": [
        {
          "output_type": "execute_result",
          "data": {
            "text/html": [
              "<div>\n",
              "<style scoped>\n",
              "    .dataframe tbody tr th:only-of-type {\n",
              "        vertical-align: middle;\n",
              "    }\n",
              "\n",
              "    .dataframe tbody tr th {\n",
              "        vertical-align: top;\n",
              "    }\n",
              "\n",
              "    .dataframe thead th {\n",
              "        text-align: right;\n",
              "    }\n",
              "</style>\n",
              "<table border=\"1\" class=\"dataframe\">\n",
              "  <thead>\n",
              "    <tr style=\"text-align: right;\">\n",
              "      <th></th>\n",
              "      <th>files</th>\n",
              "      <th>target</th>\n",
              "      <th>images</th>\n",
              "    </tr>\n",
              "  </thead>\n",
              "  <tbody>\n",
              "    <tr>\n",
              "      <th>0</th>\n",
              "      <td>../input/fashiondata/data/shoes/5da81ceb7861c2...</td>\n",
              "      <td>shoes</td>\n",
              "      <td>5da81ceb7861c2af6a5a89a7_1.jpg</td>\n",
              "    </tr>\n",
              "    <tr>\n",
              "      <th>1</th>\n",
              "      <td>../input/fashiondata/data/beauty/5da81d8a7861c...</td>\n",
              "      <td>beauty</td>\n",
              "      <td>5da81d8a7861c2af6a5a901c_3.jpg</td>\n",
              "    </tr>\n",
              "    <tr>\n",
              "      <th>2</th>\n",
              "      <td>../input/fashiondata/data/beauty/5da820f26504f...</td>\n",
              "      <td>beauty</td>\n",
              "      <td>5da820f26504fb65da0043e6_0.jpg</td>\n",
              "    </tr>\n",
              "    <tr>\n",
              "      <th>3</th>\n",
              "      <td>../input/fashiondata/data/jewelry and watches/...</td>\n",
              "      <td>jewelry and watches</td>\n",
              "      <td>5da81c026504fb65cea700d2_0.jpg</td>\n",
              "    </tr>\n",
              "    <tr>\n",
              "      <th>4</th>\n",
              "      <td>../input/fashiondata/data/bags/5da81d2c7861c2a...</td>\n",
              "      <td>bags</td>\n",
              "      <td>5da81d2c7861c2af6a5a8c64_2.jpg</td>\n",
              "    </tr>\n",
              "  </tbody>\n",
              "</table>\n",
              "</div>"
            ],
            "text/plain": [
              "                                               files  ...                          images\n",
              "0  ../input/fashiondata/data/shoes/5da81ceb7861c2...  ...  5da81ceb7861c2af6a5a89a7_1.jpg\n",
              "1  ../input/fashiondata/data/beauty/5da81d8a7861c...  ...  5da81d8a7861c2af6a5a901c_3.jpg\n",
              "2  ../input/fashiondata/data/beauty/5da820f26504f...  ...  5da820f26504fb65da0043e6_0.jpg\n",
              "3  ../input/fashiondata/data/jewelry and watches/...  ...  5da81c026504fb65cea700d2_0.jpg\n",
              "4  ../input/fashiondata/data/bags/5da81d2c7861c2a...  ...  5da81d2c7861c2af6a5a8c64_2.jpg\n",
              "\n",
              "[5 rows x 3 columns]"
            ]
          },
          "metadata": {
            "tags": []
          },
          "execution_count": 6
        }
      ]
    },
    {
      "cell_type": "code",
      "metadata": {
        "id": "xD5CBJ6G7fbO"
      },
      "source": [
        ""
      ],
      "execution_count": null,
      "outputs": []
    }
  ]
}